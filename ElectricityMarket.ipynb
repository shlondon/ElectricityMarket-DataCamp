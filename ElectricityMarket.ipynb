{
 "cells": [
  {
   "cell_type": "markdown",
   "id": "9a9ada08-c9f0-466f-91a0-265fa539f9f5",
   "metadata": {
    "tags": []
   },
   "source": [
    "# Understanding the local electricity market\n",
    "\n",
    "## 📖 Background\n",
    "You work for an energy company in Australia. Your company builds solar panel arrays and then sells the energy they produce to industrial customers. The company wants to expand to the city of Melbourne in the state of Victoria. \n",
    "\n",
    "Prices and demand for electricity change every day. Customers pay for the energy received using a formula based on the local energy market's daily price.\n",
    "\n",
    "Your company's pricing committee wants your team to estimate energy prices for the next 12-18 months to use those prices as the basis for contract negotiations.\n",
    "\n",
    "In addition, the VP of strategy is researching investing in storage capacity (i.e., batteries) as a new source of revenue. The plan is to store some of the energy produced by the solar panels when pricing conditions are unfavorable and sell it by the next day on the open market if the prices are higher."
   ]
  },
  {
   "cell_type": "markdown",
   "id": "10dcc269-3659-4851-99cd-f1ffb7f818aa",
   "metadata": {
    "tags": []
   },
   "source": [
    "## 💾 The data\n",
    "You have access to over five years of energy price and demand data ([source](https://www.kaggle.com/aramacus/electricity-demand-in-victoria-australia)):\n",
    "\n",
    "- \"date\" - from January 1, 2015, to October 6, 2020.\n",
    "- \"demand\" - daily electricity demand in MWh.\n",
    "- \"price\" - recommended retail price in AUD/MWh.\n",
    "- \"demand_pos_price\" - total daily demand at a positive price in MWh.\n",
    "- \"price_positive\" - average positive price, weighted by the corresponding intraday demand in AUD/MWh.\n",
    "- \"demand_neg_price\" - total daily demand at a negative price in MWh.\n",
    "- \"price_negative\" - average negative price, weighted by the corresponding intraday demand in AUD/MWh.\n",
    "- \"frac_neg_price\" - the fraction of the day when the demand traded at a negative price.\n",
    "- \"min_temperature\" - minimum temperature during the day in Celsius.\n",
    "- \"max_temperature\" - maximum temperature during the day in Celsius.\n",
    "- \"solar_exposure\" - total daily sunlight energy in MJ/m^2.\n",
    "- \"rainfall\" - daily rainfall in mm.\n",
    "- \"school_day\" - \"Y\" if that day was a school day, \"N\" otherwise.\n",
    "- \"holiday\" - \"Y\" if the day was a state or national holiday, \"N\" otherwise.\n",
    "\n",
    "Note: The price was negative during some intraday intervals, so energy producers were paying buyers rather than vice-versa."
   ]
  },
  {
   "cell_type": "code",
   "execution_count": null,
   "id": "40251159-3eea-47f8-bfb4-09e38d5ced65",
   "metadata": {},
   "outputs": [
    {
     "data": {
      "application/com.datacamp.data-table.v1+json": {
       "is_truncated": false,
       "table": {
        "data": [
         {
          "date": "2015-01-01T00:00:00.000Z",
          "demand": 99635.03,
          "demand_neg_price": 2315.79,
          "demand_pos_price": 97319.24,
          "frac_neg_price": 0.020833334,
          "holiday": "Y",
          "index": 0,
          "max_temperature": 26.9,
          "min_temperature": 13.3,
          "price": 25.6336964339,
          "price_negative": -7.24,
          "price_positive": 26.4159526194,
          "rainfall": 0,
          "school_day": "N",
          "solar_exposure": 23.6
         },
         {
          "date": "2015-01-02T00:00:00.000Z",
          "demand": 129606.0099999999,
          "demand_neg_price": 8523.995,
          "demand_pos_price": 121082.0149999999,
          "frac_neg_price": 0.0625,
          "holiday": "N",
          "index": 1,
          "max_temperature": 38.8,
          "min_temperature": 15.4,
          "price": 33.1389875612,
          "price_negative": -47.8097765015,
          "price_positive": 38.837660978,
          "rainfall": 0,
          "school_day": "N",
          "solar_exposure": 26.8
         },
         {
          "date": "2015-01-03T00:00:00.000Z",
          "demand": 142300.54,
          "demand_neg_price": 0,
          "demand_pos_price": 142300.54,
          "frac_neg_price": 0,
          "holiday": "N",
          "index": 2,
          "max_temperature": 38.2,
          "min_temperature": 20,
          "price": 34.5648548291,
          "price_negative": 0,
          "price_positive": 34.5648548291,
          "rainfall": 0,
          "school_day": "N",
          "solar_exposure": 26.5
         },
         {
          "date": "2015-01-04T00:00:00.000Z",
          "demand": 104330.715,
          "demand_neg_price": 0,
          "demand_pos_price": 104330.715,
          "frac_neg_price": 0,
          "holiday": "N",
          "index": 3,
          "max_temperature": 21.4,
          "min_temperature": 16.3,
          "price": 25.0055602384,
          "price_negative": 0,
          "price_positive": 25.0055602384,
          "rainfall": 4.2,
          "school_day": "N",
          "solar_exposure": 25.2
         },
         {
          "date": "2015-01-05T00:00:00.000Z",
          "demand": 118132.1999999999,
          "demand_neg_price": 0,
          "demand_pos_price": 118132.1999999999,
          "frac_neg_price": 0,
          "holiday": "N",
          "index": 4,
          "max_temperature": 22,
          "min_temperature": 15,
          "price": 26.7241762779,
          "price_negative": 0,
          "price_positive": 26.7241762779,
          "rainfall": 0,
          "school_day": "N",
          "solar_exposure": 30.7
         }
        ],
        "schema": {
         "fields": [
          {
           "name": "index",
           "type": "integer"
          },
          {
           "name": "date",
           "type": "datetime"
          },
          {
           "name": "demand",
           "type": "number"
          },
          {
           "name": "price",
           "type": "number"
          },
          {
           "name": "demand_pos_price",
           "type": "number"
          },
          {
           "name": "price_positive",
           "type": "number"
          },
          {
           "name": "demand_neg_price",
           "type": "number"
          },
          {
           "name": "price_negative",
           "type": "number"
          },
          {
           "name": "frac_neg_price",
           "type": "number"
          },
          {
           "name": "min_temperature",
           "type": "number"
          },
          {
           "name": "max_temperature",
           "type": "number"
          },
          {
           "name": "solar_exposure",
           "type": "number"
          },
          {
           "name": "rainfall",
           "type": "number"
          },
          {
           "name": "school_day",
           "type": "string"
          },
          {
           "name": "holiday",
           "type": "string"
          }
         ],
         "pandas_version": "0.20.0",
         "primaryKey": [
          "index"
         ]
        }
       },
       "total_rows": 5
      },
      "text/html": [
       "<div>\n",
       "<style scoped>\n",
       "    .dataframe tbody tr th:only-of-type {\n",
       "        vertical-align: middle;\n",
       "    }\n",
       "\n",
       "    .dataframe tbody tr th {\n",
       "        vertical-align: top;\n",
       "    }\n",
       "\n",
       "    .dataframe thead th {\n",
       "        text-align: right;\n",
       "    }\n",
       "</style>\n",
       "<table border=\"1\" class=\"dataframe\">\n",
       "  <thead>\n",
       "    <tr style=\"text-align: right;\">\n",
       "      <th></th>\n",
       "      <th>date</th>\n",
       "      <th>demand</th>\n",
       "      <th>price</th>\n",
       "      <th>demand_pos_price</th>\n",
       "      <th>price_positive</th>\n",
       "      <th>demand_neg_price</th>\n",
       "      <th>price_negative</th>\n",
       "      <th>frac_neg_price</th>\n",
       "      <th>min_temperature</th>\n",
       "      <th>max_temperature</th>\n",
       "      <th>solar_exposure</th>\n",
       "      <th>rainfall</th>\n",
       "      <th>school_day</th>\n",
       "      <th>holiday</th>\n",
       "    </tr>\n",
       "  </thead>\n",
       "  <tbody>\n",
       "    <tr>\n",
       "      <th>0</th>\n",
       "      <td>2015-01-01</td>\n",
       "      <td>99635.030</td>\n",
       "      <td>25.633696</td>\n",
       "      <td>97319.240</td>\n",
       "      <td>26.415953</td>\n",
       "      <td>2315.790</td>\n",
       "      <td>-7.240000</td>\n",
       "      <td>0.020833</td>\n",
       "      <td>13.3</td>\n",
       "      <td>26.9</td>\n",
       "      <td>23.6</td>\n",
       "      <td>0.0</td>\n",
       "      <td>N</td>\n",
       "      <td>Y</td>\n",
       "    </tr>\n",
       "    <tr>\n",
       "      <th>1</th>\n",
       "      <td>2015-01-02</td>\n",
       "      <td>129606.010</td>\n",
       "      <td>33.138988</td>\n",
       "      <td>121082.015</td>\n",
       "      <td>38.837661</td>\n",
       "      <td>8523.995</td>\n",
       "      <td>-47.809777</td>\n",
       "      <td>0.062500</td>\n",
       "      <td>15.4</td>\n",
       "      <td>38.8</td>\n",
       "      <td>26.8</td>\n",
       "      <td>0.0</td>\n",
       "      <td>N</td>\n",
       "      <td>N</td>\n",
       "    </tr>\n",
       "    <tr>\n",
       "      <th>2</th>\n",
       "      <td>2015-01-03</td>\n",
       "      <td>142300.540</td>\n",
       "      <td>34.564855</td>\n",
       "      <td>142300.540</td>\n",
       "      <td>34.564855</td>\n",
       "      <td>0.000</td>\n",
       "      <td>0.000000</td>\n",
       "      <td>0.000000</td>\n",
       "      <td>20.0</td>\n",
       "      <td>38.2</td>\n",
       "      <td>26.5</td>\n",
       "      <td>0.0</td>\n",
       "      <td>N</td>\n",
       "      <td>N</td>\n",
       "    </tr>\n",
       "    <tr>\n",
       "      <th>3</th>\n",
       "      <td>2015-01-04</td>\n",
       "      <td>104330.715</td>\n",
       "      <td>25.005560</td>\n",
       "      <td>104330.715</td>\n",
       "      <td>25.005560</td>\n",
       "      <td>0.000</td>\n",
       "      <td>0.000000</td>\n",
       "      <td>0.000000</td>\n",
       "      <td>16.3</td>\n",
       "      <td>21.4</td>\n",
       "      <td>25.2</td>\n",
       "      <td>4.2</td>\n",
       "      <td>N</td>\n",
       "      <td>N</td>\n",
       "    </tr>\n",
       "    <tr>\n",
       "      <th>4</th>\n",
       "      <td>2015-01-05</td>\n",
       "      <td>118132.200</td>\n",
       "      <td>26.724176</td>\n",
       "      <td>118132.200</td>\n",
       "      <td>26.724176</td>\n",
       "      <td>0.000</td>\n",
       "      <td>0.000000</td>\n",
       "      <td>0.000000</td>\n",
       "      <td>15.0</td>\n",
       "      <td>22.0</td>\n",
       "      <td>30.7</td>\n",
       "      <td>0.0</td>\n",
       "      <td>N</td>\n",
       "      <td>N</td>\n",
       "    </tr>\n",
       "  </tbody>\n",
       "</table>\n",
       "</div>"
      ],
      "text/plain": [
       "        date      demand      price  demand_pos_price  price_positive  \\\n",
       "0 2015-01-01   99635.030  25.633696         97319.240       26.415953   \n",
       "1 2015-01-02  129606.010  33.138988        121082.015       38.837661   \n",
       "2 2015-01-03  142300.540  34.564855        142300.540       34.564855   \n",
       "3 2015-01-04  104330.715  25.005560        104330.715       25.005560   \n",
       "4 2015-01-05  118132.200  26.724176        118132.200       26.724176   \n",
       "\n",
       "   demand_neg_price  price_negative  frac_neg_price  min_temperature  \\\n",
       "0          2315.790       -7.240000        0.020833             13.3   \n",
       "1          8523.995      -47.809777        0.062500             15.4   \n",
       "2             0.000        0.000000        0.000000             20.0   \n",
       "3             0.000        0.000000        0.000000             16.3   \n",
       "4             0.000        0.000000        0.000000             15.0   \n",
       "\n",
       "   max_temperature  solar_exposure  rainfall school_day holiday  \n",
       "0             26.9            23.6       0.0          N       Y  \n",
       "1             38.8            26.8       0.0          N       N  \n",
       "2             38.2            26.5       0.0          N       N  \n",
       "3             21.4            25.2       4.2          N       N  \n",
       "4             22.0            30.7       0.0          N       N  "
      ]
     },
     "execution_count": 1,
     "metadata": {},
     "output_type": "execute_result"
    }
   ],
   "source": [
    "import pandas as pd\n",
    "df = pd.read_csv('./data/energy_demand.csv', parse_dates=['date'])\n",
    "df.head()"
   ]
  },
  {
   "cell_type": "markdown",
   "id": "54e0ae0c-ff96-443e-9ff3-718f1ab846e5",
   "metadata": {},
   "source": [
    "## 💪 Competition challenge\n",
    "\n",
    "Create a report that covers the following:\n",
    "\n",
    "1. How do energy prices change throughout the year? Are there any patterns by season or month of the year?\n",
    "2. Build a forecast of daily energy prices the company can use as the basis of its financial planning.\n",
    "3. Provide guidance on how much revenue the energy storage venture could generate per year using retail prices and a 70MWh storage system."
   ]
  },
  {
   "cell_type": "markdown",
   "id": "c107baf6-fad6-4081-b637-64c250037b7d",
   "metadata": {},
   "source": [
    "## Energy Price 💡\n",
    "\n",
    "The Energy price has strong right skew, there is a big difference between 3th quartil and the maximum: the 75% of price's values are below to 95.08 AUD/MWh and the maximum is 4549.65 AUD/MWh. This situation doesn't happen with the lower values, so there isn't left skew.\n",
    "\n",
    "If it is graphed the energy price you won't see much. Therefore outliers are detected by calculating the upper limit and lower limit using the following formulas:\n",
    "\n",
    "- $upperLimit = 3thQuartil + 1.5 * interquartilRange$\n",
    "- $lowerLimit = 1thQuartil - 1.5 * interquartilRange$\n",
    "- $interquartilRange = 3thQuartil - 1thQuartil$\n",
    "\n",
    "It is observed that the **upperLimit** [179.63 AUD/MWh] is lower than the maximum [4549.65 AUD/MWh], so all values upper that the upperlimit are *outliers*. The low values of energy's price do not have outliers because the **lowerLimit** [-45.84 AUD/MWh] is lower than the minimum [-6.08 AUD/MWh].\n",
    "\n",
    "These new information on outliers' presence allows the creation of a new variable called **outlier_price** that will take 1 if the energy's prices is upper than 179.63 AUD/MWh and 0 otherwise. Therefore, it could be used to control outliers when the models are built. It is observed that only 28 [1.33%] from 2106 are outliers."
   ]
  },
  {
   "cell_type": "code",
   "execution_count": 1,
   "id": "c7af555d-f97f-4e9d-bacb-3b8f06526189",
   "metadata": {},
   "outputs": [
    {
     "name": "stdout",
     "output_type": "stream",
     "text": [
      "Descriptive Statistics for Price of Energy \n",
      "         price\n",
      "count  2106.00\n",
      "mean     76.08\n",
      "std     130.25\n",
      "min      -6.08\n",
      "25%      38.71\n",
      "50%      66.60\n",
      "75%      95.08\n",
      "max    4549.65\n",
      "\n",
      "upperLimit =  179.63\n",
      "\n",
      "lowerLimit =  -45.84\n",
      "\n",
      "Descriptive Statistics for otulier_price variable\n",
      "0    2078\n",
      "1      28\n",
      "Name: outlier_price, dtype: int64\n"
     ]
    }
   ],
   "source": [
    "# Read dataset\n",
    "import pandas as pd\n",
    "df = pd.read_csv('./data/energy_demand.csv', parse_dates=['date'])\n",
    "\n",
    "# Descriptive Statistics\n",
    "print('Descriptive Statistics for Price of Energy ')\n",
    "print(round(df.price.describe(), 2).to_frame())\n",
    "print('')\n",
    "\n",
    "# Upper limit and lower limit for detect outliers\n",
    "interquartil_range = df.price.describe()['75%'] - df.price.describe()['25%']\n",
    "upper_limit = df.price.describe()['75%'] + 1.5 * interquartil_range\n",
    "lower_limit = df.price.describe()['25%'] - 1.5 * interquartil_range\n",
    "\n",
    "print('upperLimit = ', round(upper_limit, 2))\n",
    "print('')\n",
    "print('lowerLimit = ', round(lower_limit,2))\n",
    "print('')\n",
    "\n",
    "# Feature Engineering: outlier_price\n",
    "df['outlier_price'] = df.price.apply(lambda x: 1 if x > upper_limit else 0)\n",
    "print('Descriptive Statistics for otulier_price variable')\n",
    "print(df.outlier_price.value_counts())"
   ]
  },
  {
   "cell_type": "markdown",
   "id": "8beb8312-808e-44a3-a381-05d25a4757d1",
   "metadata": {},
   "source": [
    "### Evolution of Energy's Price 🕰\n",
    "\n",
    "The annual price of energy changes over time. It slowly increases from 2015 to 2016, then strongly increases at 2017, then slowly decreases at 2018, then slowly increases at 2019, finally strongly decreases at 2020. **It is observed to change non-linearly with time, it looks like a parabola**."
   ]
  },
  {
   "cell_type": "markdown",
   "id": "2defdee8-c952-4f39-ba16-681baf981aca",
   "metadata": {},
   "source": [
    "### Negative Prices\n",
    "\n",
    "There are only three negatives prices, very few of thems. So they wont be deleted."
   ]
  },
  {
   "cell_type": "code",
   "execution_count": 13,
   "id": "ca1cdef4-9e4b-4fb9-ab1b-c9c46b74029f",
   "metadata": {},
   "outputs": [
    {
     "data": {
      "application/com.datacamp.data-table.v1+json": {
       "is_truncated": false,
       "table": {
        "data": [
         {
          "date": "2020-01-23T00:00:00.000Z",
          "demand": 112254.83,
          "demand_neg_price": 32884.13,
          "demand_pos_price": 79370.7,
          "frac_neg_price": 0.29166666,
          "holiday": "N",
          "index": 1848,
          "max_temperature": 22.6,
          "min_temperature": 12.9,
          "outlier_price": 0,
          "price": -1.7614234528,
          "price_negative": -78.4814265361,
          "price_positive": 30.0244944614,
          "rainfall": 22.8,
          "school_day": "N",
          "solar_exposure": 13.4
         },
         {
          "date": "2020-10-02T00:00:00.000Z",
          "demand": 99585.835,
          "demand_neg_price": 57597.595,
          "demand_pos_price": 41988.24,
          "frac_neg_price": 0.625,
          "holiday": "N",
          "index": 2101,
          "max_temperature": 26,
          "min_temperature": 12.8,
          "outlier_price": 0,
          "price": -6.0760283694,
          "price_negative": -30.173822552,
          "price_positive": 26.9802509536,
          "rainfall": 0,
          "school_day": "N",
          "solar_exposure": 22
         },
         {
          "date": "2020-10-03T00:00:00.000Z",
          "demand": 92277.025,
          "demand_neg_price": 48143.515,
          "demand_pos_price": 44133.51,
          "frac_neg_price": 0.5833333,
          "holiday": "N",
          "index": 2102,
          "max_temperature": 29.4,
          "min_temperature": 17.4,
          "outlier_price": 0,
          "price": -1.9834706326,
          "price_negative": -33.5380254256,
          "price_positive": 32.4381555195,
          "rainfall": 0,
          "school_day": "N",
          "solar_exposure": 19.8
         }
        ],
        "schema": {
         "fields": [
          {
           "name": "index",
           "type": "integer"
          },
          {
           "name": "date",
           "type": "datetime"
          },
          {
           "name": "demand",
           "type": "number"
          },
          {
           "name": "price",
           "type": "number"
          },
          {
           "name": "demand_pos_price",
           "type": "number"
          },
          {
           "name": "price_positive",
           "type": "number"
          },
          {
           "name": "demand_neg_price",
           "type": "number"
          },
          {
           "name": "price_negative",
           "type": "number"
          },
          {
           "name": "frac_neg_price",
           "type": "number"
          },
          {
           "name": "min_temperature",
           "type": "number"
          },
          {
           "name": "max_temperature",
           "type": "number"
          },
          {
           "name": "solar_exposure",
           "type": "number"
          },
          {
           "name": "rainfall",
           "type": "number"
          },
          {
           "name": "school_day",
           "type": "string"
          },
          {
           "name": "holiday",
           "type": "string"
          },
          {
           "name": "outlier_price",
           "type": "integer"
          }
         ],
         "pandas_version": "0.20.0",
         "primaryKey": [
          "index"
         ]
        }
       },
       "total_rows": 3
      },
      "text/html": [
       "<div>\n",
       "<style scoped>\n",
       "    .dataframe tbody tr th:only-of-type {\n",
       "        vertical-align: middle;\n",
       "    }\n",
       "\n",
       "    .dataframe tbody tr th {\n",
       "        vertical-align: top;\n",
       "    }\n",
       "\n",
       "    .dataframe thead th {\n",
       "        text-align: right;\n",
       "    }\n",
       "</style>\n",
       "<table border=\"1\" class=\"dataframe\">\n",
       "  <thead>\n",
       "    <tr style=\"text-align: right;\">\n",
       "      <th></th>\n",
       "      <th>date</th>\n",
       "      <th>demand</th>\n",
       "      <th>price</th>\n",
       "      <th>demand_pos_price</th>\n",
       "      <th>price_positive</th>\n",
       "      <th>demand_neg_price</th>\n",
       "      <th>price_negative</th>\n",
       "      <th>frac_neg_price</th>\n",
       "      <th>min_temperature</th>\n",
       "      <th>max_temperature</th>\n",
       "      <th>solar_exposure</th>\n",
       "      <th>rainfall</th>\n",
       "      <th>school_day</th>\n",
       "      <th>holiday</th>\n",
       "      <th>outlier_price</th>\n",
       "    </tr>\n",
       "  </thead>\n",
       "  <tbody>\n",
       "    <tr>\n",
       "      <th>1848</th>\n",
       "      <td>2020-01-23</td>\n",
       "      <td>112254.830</td>\n",
       "      <td>-1.761423</td>\n",
       "      <td>79370.70</td>\n",
       "      <td>30.024494</td>\n",
       "      <td>32884.130</td>\n",
       "      <td>-78.481427</td>\n",
       "      <td>0.291667</td>\n",
       "      <td>12.9</td>\n",
       "      <td>22.6</td>\n",
       "      <td>13.4</td>\n",
       "      <td>22.8</td>\n",
       "      <td>N</td>\n",
       "      <td>N</td>\n",
       "      <td>0</td>\n",
       "    </tr>\n",
       "    <tr>\n",
       "      <th>2101</th>\n",
       "      <td>2020-10-02</td>\n",
       "      <td>99585.835</td>\n",
       "      <td>-6.076028</td>\n",
       "      <td>41988.24</td>\n",
       "      <td>26.980251</td>\n",
       "      <td>57597.595</td>\n",
       "      <td>-30.173823</td>\n",
       "      <td>0.625000</td>\n",
       "      <td>12.8</td>\n",
       "      <td>26.0</td>\n",
       "      <td>22.0</td>\n",
       "      <td>0.0</td>\n",
       "      <td>N</td>\n",
       "      <td>N</td>\n",
       "      <td>0</td>\n",
       "    </tr>\n",
       "    <tr>\n",
       "      <th>2102</th>\n",
       "      <td>2020-10-03</td>\n",
       "      <td>92277.025</td>\n",
       "      <td>-1.983471</td>\n",
       "      <td>44133.51</td>\n",
       "      <td>32.438156</td>\n",
       "      <td>48143.515</td>\n",
       "      <td>-33.538025</td>\n",
       "      <td>0.583333</td>\n",
       "      <td>17.4</td>\n",
       "      <td>29.4</td>\n",
       "      <td>19.8</td>\n",
       "      <td>0.0</td>\n",
       "      <td>N</td>\n",
       "      <td>N</td>\n",
       "      <td>0</td>\n",
       "    </tr>\n",
       "  </tbody>\n",
       "</table>\n",
       "</div>"
      ],
      "text/plain": [
       "           date      demand     price  demand_pos_price  price_positive  \\\n",
       "1848 2020-01-23  112254.830 -1.761423          79370.70       30.024494   \n",
       "2101 2020-10-02   99585.835 -6.076028          41988.24       26.980251   \n",
       "2102 2020-10-03   92277.025 -1.983471          44133.51       32.438156   \n",
       "\n",
       "      demand_neg_price  price_negative  frac_neg_price  min_temperature  \\\n",
       "1848         32884.130      -78.481427        0.291667             12.9   \n",
       "2101         57597.595      -30.173823        0.625000             12.8   \n",
       "2102         48143.515      -33.538025        0.583333             17.4   \n",
       "\n",
       "      max_temperature  solar_exposure  rainfall school_day holiday  \\\n",
       "1848             22.6            13.4      22.8          N       N   \n",
       "2101             26.0            22.0       0.0          N       N   \n",
       "2102             29.4            19.8       0.0          N       N   \n",
       "\n",
       "      outlier_price  \n",
       "1848              0  \n",
       "2101              0  \n",
       "2102              0  "
      ]
     },
     "execution_count": 13,
     "metadata": {},
     "output_type": "execute_result"
    }
   ],
   "source": [
    "import numpy as np\n",
    "df[df.price < 0]"
   ]
  },
  {
   "cell_type": "code",
   "execution_count": 9,
   "id": "06d78be2-4ea2-4777-b22a-1ef3771e0376",
   "metadata": {},
   "outputs": [
    {
     "data": {
      "image/png": "[encoded data removed]",
      "text/plain": [
       "<Figure size 432x288 with 1 Axes>"
      ]
     },
     "metadata": {
      "needs_background": "light"
     },
     "output_type": "display_data"
    }
   ],
   "source": [
    "import seaborn as sns\n",
    "import matplotlib.pyplot as plt\n",
    "\n",
    "# Feature Engineering: year and month\n",
    "df['year'] = [ts.year for ts in df.date]\n",
    "\n",
    "# plot\n",
    "sns.boxplot(x='year', y='price', data=df[df.price <= 170.63])\n",
    "plt.show()"
   ]
  },
  {
   "cell_type": "markdown",
   "id": "4fa4b123-7f56-4ef2-9ff0-2e1f9414c09f",
   "metadata": {},
   "source": [
    "The monthly price of energy over the years also changes over time. **It is observed that price is higher in June [month number 6] and July [month number 7] than the rest except at 2015 and 2018**, the median [horizontal line into the boxes] for these months are the highest."
   ]
  },
  {
   "cell_type": "code",
   "execution_count": 3,
   "id": "f35ff9dd-0873-4564-8de3-a845adcdff06",
   "metadata": {},
   "outputs": [
    {
     "data": {
      "image/png": "[encoded data removed]",
      "text/plain": [
       "<Figure size 1382.4x576 with 6 Axes>"
      ]
     },
     "metadata": {
      "needs_background": "light"
     },
     "output_type": "display_data"
    }
   ],
   "source": [
    "# Feature Engineering: month\n",
    "df['month'] = [ts.month for ts in df.date]\n",
    "\n",
    "# plot\n",
    "sns.catplot(x='month', y='price', col='year', kind='box', data=df[df.price <= 170.63], height=8, aspect=.4)\n",
    "plt.show()"
   ]
  },
  {
   "cell_type": "markdown",
   "id": "8481193b-2757-4ea1-85ea-28297d8ddf01",
   "metadata": {},
   "source": [
    "**The price of energy varies throughout the days of the week**, Saturdays [value equal to 5] and Sundays [value equal to 6] are lower values than the rest of the days of the week, weekend medians are lowest."
   ]
  },
  {
   "cell_type": "code",
   "execution_count": 4,
   "id": "32b1590f-5c19-4e9a-a5ed-aaffc141054c",
   "metadata": {},
   "outputs": [
    {
     "data": {
      "image/png": "[encoded data removed]",
      "text/plain": [
       "<Figure size 360x360 with 1 Axes>"
      ]
     },
     "metadata": {
      "needs_background": "light"
     },
     "output_type": "display_data"
    }
   ],
   "source": [
    "# Feature Engineering: day of week\n",
    "df['day_of_week'] = [ts.day_of_week for ts in df.date]\n",
    "\n",
    "# plot\n",
    "sns.catplot(x='day_of_week', y='price', kind='box', data=df[df.price < 170.63])\n",
    "plt.show()"
   ]
  },
  {
   "cell_type": "markdown",
   "id": "6868333c-59ef-4986-8c9c-6ecf6f7f2c1f",
   "metadata": {},
   "source": [
    "### Preprocessing - Encoding - OneHotEncoder"
   ]
  },
  {
   "cell_type": "code",
   "execution_count": null,
   "id": "f6849873-a266-409d-99e7-2a8abe85d13b",
   "metadata": {},
   "outputs": [
    {
     "data": {
      "text/plain": [
       "OneHotEncoder(handle_unknown='ignore')"
      ]
     },
     "execution_count": 29,
     "metadata": {},
     "output_type": "execute_result"
    }
   ],
   "source": [
    "from sklearn.preprocessing import OneHotEncoder\n",
    "import numpy as np\n",
    "X = [i + 1 for i in range(11)]\n",
    "X = np.array(X).reshape(-1,1)\n",
    "enc = OneHotEncoder(handle_unknown='ignore')\n",
    "enc.fit(X)"
   ]
  },
  {
   "cell_type": "code",
   "execution_count": null,
   "id": "17ae27f1-3aba-48ca-8caa-7692b36182fc",
   "metadata": {},
   "outputs": [
    {
     "data": {
      "text/plain": [
       "array([3, 4, 5, 6, 0, 1, 2])"
      ]
     },
     "execution_count": 73,
     "metadata": {},
     "output_type": "execute_result"
    }
   ],
   "source": [
    "df.day_of_week.unique()"
   ]
  },
  {
   "cell_type": "code",
   "execution_count": null,
   "id": "024b6aa8-b718-4851-8c6c-9cb0b2e455be",
   "metadata": {},
   "outputs": [
    {
     "data": {
      "text/plain": [
       "OneHotEncoder(handle_unknown='ignore')"
      ]
     },
     "execution_count": 75,
     "metadata": {},
     "output_type": "execute_result"
    }
   ],
   "source": [
    "l = [[[i + 1, j] for j in range(7)] for i in range(12)]\n",
    "X_month_day = np.array(l).reshape(-2,2).tolist()\n",
    "enc = OneHotEncoder(handle_unknown='ignore')\n",
    "enc.fit(X_month_day)"
   ]
  },
  {
   "cell_type": "code",
   "execution_count": null,
   "id": "ae1cc019-2aec-4da4-9a93-65ee965e0359",
   "metadata": {},
   "outputs": [
    {
     "data": {
      "text/plain": [
       "[array([ 1,  2,  3,  4,  5,  6,  7,  8,  9, 10, 11, 12]),\n",
       " array([0, 1, 2, 3, 4, 5, 6])]"
      ]
     },
     "execution_count": 77,
     "metadata": {},
     "output_type": "execute_result"
    }
   ],
   "source": [
    "enc.categories_"
   ]
  },
  {
   "cell_type": "code",
   "execution_count": null,
   "id": "53a9bdce-2d23-4759-be1b-071abf745e89",
   "metadata": {},
   "outputs": [],
   "source": [
    "list_prices = df.price[1800:1802].values.tolist()\n",
    "list_months_daysweek = enc.transform(df[['month','day_of_week']].values[1800:1802]).toarray().tolist()"
   ]
  },
  {
   "cell_type": "code",
   "execution_count": null,
   "id": "0bc547b6-8ff3-46aa-b254-b96c9086af89",
   "metadata": {},
   "outputs": [
    {
     "data": {
      "text/plain": [
       "[41.38035927320447, 47.12307019341698]"
      ]
     },
     "execution_count": 87,
     "metadata": {},
     "output_type": "execute_result"
    }
   ],
   "source": [
    "list_prices"
   ]
  },
  {
   "cell_type": "code",
   "execution_count": null,
   "id": "995b2be0-230b-491c-8f63-449495477a7e",
   "metadata": {},
   "outputs": [],
   "source": [
    "# Add prices\n",
    "X_potencial = [[list_prices[i]] + lmdw for i, lmdw in zip(range(2), list_months_daysweek)]"
   ]
  },
  {
   "cell_type": "code",
   "execution_count": null,
   "id": "e22d9aae-d093-4a9e-a776-b250d5f3aeea",
   "metadata": {},
   "outputs": [
    {
     "data": {
      "text/plain": [
       "array([[41.38035927,  0.        ,  0.        ,  0.        ,  0.        ,\n",
       "         0.        ,  0.        ,  0.        ,  0.        ,  0.        ,\n",
       "         0.        ,  0.        ,  1.        ,  0.        ,  0.        ,\n",
       "         0.        ,  0.        ,  1.        ,  0.        ,  0.        ],\n",
       "       [47.12307019,  0.        ,  0.        ,  0.        ,  0.        ,\n",
       "         0.        ,  0.        ,  0.        ,  0.        ,  0.        ,\n",
       "         0.        ,  0.        ,  1.        ,  0.        ,  0.        ,\n",
       "         0.        ,  0.        ,  0.        ,  1.        ,  0.        ]])"
      ]
     },
     "execution_count": 92,
     "metadata": {},
     "output_type": "execute_result"
    }
   ],
   "source": [
    "np.array(X_potencial)"
   ]
  },
  {
   "cell_type": "code",
   "execution_count": null,
   "id": "d642fc3d-bcc6-4995-9f21-49a37bccc955",
   "metadata": {},
   "outputs": [
    {
     "data": {
      "text/plain": [
       "array([[0., 0., 0., 0., 0., 0., 0., 0., 0., 0., 0.],\n",
       "       [0., 0., 0., 0., 0., 0., 0., 0., 0., 0., 0.]])"
      ]
     },
     "execution_count": 54,
     "metadata": {},
     "output_type": "execute_result"
    }
   ],
   "source": [
    "enc.transform(df['month'].values[1800:1802].reshape(-1,1)).toarray()"
   ]
  },
  {
   "cell_type": "code",
   "execution_count": null,
   "id": "b59a5bbc-af8e-4336-a33f-5b48b9f39ff8",
   "metadata": {},
   "outputs": [
    {
     "data": {
      "text/plain": [
       "array([[12,  4],\n",
       "       [12,  5]])"
      ]
     },
     "execution_count": 79,
     "metadata": {},
     "output_type": "execute_result"
    }
   ],
   "source": [
    "df[['month','day_of_week']].values[1800:1802]"
   ]
  },
  {
   "cell_type": "markdown",
   "id": "8f4b3030-ecd4-4b8a-a57d-7f87f2248add",
   "metadata": {
    "tags": []
   },
   "source": [
    "### Relation between Energy's Price and numeric variables\n",
    "\n",
    "Following Economy theory, the prices of a thing or service are built by its demand and its supply. The energy's price will increase if the demand is greater than the supply and the energy's price will decrease if the demand is less than the supply. In addition, there is a positive relationship between price and demand, so the higher the demand, the higher the price. And there is a negative relationship between price and supply, so the higher the supply, the lower the price.\n",
    "\n",
    "$EnergyPrice = F(Demand, Supply)$\n",
    "\n",
    "Saddenly the dataset does not have variables that play the rol of the Supply. So it is assumed that Supply will be the same accross time. It is a strong assumption but it is necessary in abstractions settings. In futures iterations build a Supply Model getting different variables is a recommendation.\n",
    "\n",
    "Let is checked the Relationship between Energy's Price and its Demand. After take the base 10 logarithm positive relationship between price and demand is confirmed. It is also observed that the relationship is not linear, for higher demand's value the price's value increase faster than lower demand's value."
   ]
  },
  {
   "cell_type": "code",
   "execution_count": 2,
   "id": "59471ed8-aca9-4d10-ad59-a00395bf3480",
   "metadata": {},
   "outputs": [],
   "source": [
    "from sklearn.model_selection import train_test_split\n",
    "from sklearn.preprocessing import StandardScaler, PolynomialFeatures\n",
    "from sklearn.linear_model import LinearRegression\n",
    "from sklearn.metrics import mean_squared_error as MSE\n",
    "import numpy as np\n",
    "from itertools import product\n",
    "\n",
    "def create_prices_models(df, to_the_degree):\n",
    "    \"\"\"\n",
    "    Create a Linear Regression Models to modelate energy's price with demand variable.\n",
    "    Following:\n",
    "    1. Split data\n",
    "    2. Standarize variables and apply over them log10 numpy method\n",
    "    3. Generate different polynomial grades of demand variables\n",
    "    4. Fit models\n",
    "    5. Get predictions\n",
    "    6. Evaluate using Root Mean Squared Errors [RMSE]\n",
    "    7. Store main information\n",
    "    \n",
    "    Args:\n",
    "        df: data frame with Demand Energy's price variable. \n",
    "            The names must be \"demand\" and \"price\"\n",
    "        to_the_degree: int that control the degree parameter in PolynomialFeatures() class.\n",
    "            And it also control the number of models to be fitted. So if to_the_degree = 3\n",
    "            then three Linear Regression Models [LRM] will be fitted:\n",
    "                - LRM with degree 1\n",
    "                - LRM with degree 2\n",
    "                - LRM with degree 3\n",
    "\n",
    "    Returns:\n",
    "        Pandas.DataFrame: DataFrame with RMSE train and test values for each model fitted.\n",
    "    \"\"\"\n",
    "    \n",
    "    # Inputs\n",
    "    df_no_neg_prices = df[df.price >= 0]\n",
    "    df_X = pd.DataFrame(df_no_neg_prices['demand'])\n",
    "    df_y = pd.DataFrame(df_no_neg_prices['price'])\n",
    "    degrees = [i + 1 for i in range(to_the_degree)]\n",
    "    biasses = [True, False]\n",
    "    intercepts = [True, False]\n",
    "    demands = ['demand', 'demandStandardized', 'demandLog10']\n",
    "    prices = ['price', 'priceStandardized', 'priceLog10']\n",
    "    combinations = list(product(biasses, intercepts, demands, prices))\n",
    "\n",
    "    # Split data\n",
    "    X_train, X_test, y_train, y_test = train_test_split(df_X,\n",
    "                                                        df_y, test_size=0.4, random_state=2256)\n",
    "\n",
    "    # Standardize demand and price\n",
    "    standardizer = StandardScaler()\n",
    "    X_train['demandStandardized'] = standardizer.fit_transform(X_train.demand.values.reshape(-1,1))\n",
    "    y_train['priceStandardized'] = standardizer.fit_transform(y_train.price.values.reshape(-1,1))\n",
    "    X_test['demandStandardized'] = standardizer.fit_transform(X_test.demand.values.reshape(-1,1))\n",
    "    y_test['priceStandardized'] = standardizer.fit_transform(y_test.price.values.reshape(-1,1))\n",
    "\n",
    "    # Apply logarithm to the demand variable\n",
    "    X_train['demandLog10'] = np.log10(df.demand)\n",
    "    y_train['priceLog10'] = np.log10(df.price)\n",
    "    X_test['demandLog10'] = np.log10(df.demand)\n",
    "    y_test['priceLog10'] = np.log10(df.price)\n",
    "    combinations = list(product(biasses, intercepts, demands, prices))\n",
    "    \n",
    "    # Get main information\n",
    "    print('Fitting models ...')\n",
    "    df_summary = pd.DataFrame()\n",
    "    for comb in combinations:\n",
    "        for degree in degrees:\n",
    "\n",
    "            # Crete new variables with different grades of demandStandardized variable\n",
    "            polyfeatures = PolynomialFeatures(degree=degree, include_bias=comb[0])\n",
    "            X_demand_train = polyfeatures.fit_transform(np.array(X_train[comb[2]]).reshape(-1, 1))\n",
    "            X_demand_test = polyfeatures.fit_transform(np.array(X_test[comb[2]]).reshape(-1, 1))\n",
    "\n",
    "            try:\n",
    "                # Fit model\n",
    "                model_train = LinearRegression(fit_intercept=comb[1])\n",
    "                model_train.fit(X_demand_train, y_train[comb[3]])\n",
    "\n",
    "                # Predictions\n",
    "                # Train\n",
    "                predictions_train = model_train.predict(X_demand_train)\n",
    "                # Test\n",
    "                predictions_test = model_train.predict(X_demand_test)\n",
    "\n",
    "                # Evaluate model\n",
    "                rmse_train = MSE(y_train[comb[3]], predictions_train, squared=False)\n",
    "                rmse_test = MSE(y_test[comb[3]], predictions_test, squared=False)\n",
    "                # print('Train RMSE: {} and Test RMSE: {}'.format(rmse_train, rmse_test))\n",
    "\n",
    "                # Store main data\n",
    "                df_summary = pd.concat([df_summary,\n",
    "                                        pd.DataFrame({'Grades':degree,\n",
    "                                                      'Biasses':comb[0],\n",
    "                                                      'Intercepts':comb[1],\n",
    "                                                      'Demand':comb[2],\n",
    "                                                      'Price':comb[3],\n",
    "                                                      'Train_RMSE': rmse_train,\n",
    "                                                      'Test_RMSE': rmse_test}, index=[0])])\n",
    "\n",
    "            except:\n",
    "                df_summary = pd.concat([df_summary,\n",
    "                                        pd.DataFrame({'Grades':degree,\n",
    "                                                      'Biasses':comb[0],\n",
    "                                                      'Intercepts':comb[1],\n",
    "                                                      'Demand':comb[2],\n",
    "                                                      'Price':comb[3],\n",
    "                                                      'Train_RMSE':np.nan,\n",
    "                                                      'Test_RMSE':np.nan},\n",
    "                                                    index=[0])])\n",
    "                pass\n",
    "\n",
    "    # Return\n",
    "    print('Models fitted')\n",
    "    return df_summary\n",
    "    \n",
    "        "
   ]
  },
  {
   "cell_type": "code",
   "execution_count": null,
   "id": "dc0e6b91-6cac-4cd9-9690-7c4d89413205",
   "metadata": {},
   "outputs": [],
   "source": [
    "# Create models\n",
    "models = create_prices_models(df, 10)"
   ]
  },
  {
   "cell_type": "code",
   "execution_count": 11,
   "id": "85c77060-be1c-4e3f-8ae8-e72cd072d2a4",
   "metadata": {},
   "outputs": [
    {
     "name": "stdout",
     "output_type": "stream",
     "text": [
      "<class 'pandas.core.frame.DataFrame'>\n",
      "RangeIndex: 720 entries, 0 to 719\n",
      "Data columns (total 4 columns):\n",
      " #   Column      Non-Null Count  Dtype  \n",
      "---  ------      --------------  -----  \n",
      " 0   Name        720 non-null    object \n",
      " 1   Grades      720 non-null    int64  \n",
      " 2   Kind_RMSE   720 non-null    object \n",
      " 3   Value_RMSE  720 non-null    float64\n",
      "dtypes: float64(1), int64(1), object(2)\n",
      "memory usage: 22.6+ KB\n"
     ]
    }
   ],
   "source": [
    "# Melting outcomes of the create_prices_models()\n",
    "\n",
    "# Name model variable\n",
    "models['Name'] = models.Biasses.astype(str) + models.Intercepts.astype(str) + models.Demand + models.Price\n",
    "\n",
    "# Melting\n",
    "models_long_format = pd.melt(models, id_vars = ['Name', 'Grades'], \n",
    "                             value_vars=['Train_RMSE','Test_RMSE'],\n",
    "                             var_name = 'Kind_RMSE',\n",
    "                             value_name = 'Value_RMSE')\n",
    "models_long_format.info()"
   ]
  },
  {
   "cell_type": "code",
   "execution_count": 28,
   "id": "897469ea-a2df-4229-8a8c-78a82797ab05",
   "metadata": {},
   "outputs": [
    {
     "data": {
      "image/png": "[encoded data removed]",
      "text/plain": [
       "<Figure size 1173x1440 with 11 Axes>"
      ]
     },
     "metadata": {
      "needs_background": "light"
     },
     "output_type": "display_data"
    }
   ],
   "source": [
    "# Plot\n",
    "sns.relplot(data=models_long_format[models_long_format.Value_RMSE <= 0.27],\n",
    "            x='Grades',\n",
    "            y='Value_RMSE',\n",
    "            hue='Kind_RMSE', style='Kind_RMSE',\n",
    "            col='Name',\n",
    "            kind='line',\n",
    "            col_wrap=3)\n",
    "plt.show()"
   ]
  },
  {
   "cell_type": "code",
   "execution_count": 38,
   "id": "08dd8e50-50d5-48d6-8398-0f41e6d58072",
   "metadata": {},
   "outputs": [
    {
     "data": {
      "application/com.datacamp.data-table.v1+json": {
       "is_truncated": false,
       "table": {
        "data": [
         {
          "Biasses": false,
          "Demand": "demandStandardized",
          "Grades": 1,
          "Intercepts": true,
          "Name": "FalseTruedemandStandardizedpriceLog10",
          "Price": "priceLog10",
          "Test_RMSE": 0.258260077,
          "Train_RMSE": 0.2442010059,
          "index": 0
         },
         {
          "Biasses": false,
          "Demand": "demandStandardized",
          "Grades": 2,
          "Intercepts": true,
          "Name": "FalseTruedemandStandardizedpriceLog10",
          "Price": "priceLog10",
          "Test_RMSE": 0.2565668909,
          "Train_RMSE": 0.243680218,
          "index": 0
         },
         {
          "Biasses": false,
          "Demand": "demandStandardized",
          "Grades": 3,
          "Intercepts": true,
          "Name": "FalseTruedemandStandardizedpriceLog10",
          "Price": "priceLog10",
          "Test_RMSE": 0.2499298179,
          "Train_RMSE": 0.2400973696,
          "index": 0
         },
         {
          "Biasses": false,
          "Demand": "demandStandardized",
          "Grades": 4,
          "Intercepts": true,
          "Name": "FalseTruedemandStandardizedpriceLog10",
          "Price": "priceLog10",
          "Test_RMSE": 0.2497915465,
          "Train_RMSE": 0.2390688902,
          "index": 0
         },
         {
          "Biasses": false,
          "Demand": "demandStandardized",
          "Grades": 5,
          "Intercepts": true,
          "Name": "FalseTruedemandStandardizedpriceLog10",
          "Price": "priceLog10",
          "Test_RMSE": 0.2498704054,
          "Train_RMSE": 0.2390149986,
          "index": 0
         },
         {
          "Biasses": false,
          "Demand": "demandStandardized",
          "Grades": 6,
          "Intercepts": true,
          "Name": "FalseTruedemandStandardizedpriceLog10",
          "Price": "priceLog10",
          "Test_RMSE": 0.2498014426,
          "Train_RMSE": 0.2389940493,
          "index": 0
         },
         {
          "Biasses": false,
          "Demand": "demandStandardized",
          "Grades": 7,
          "Intercepts": true,
          "Name": "FalseTruedemandStandardizedpriceLog10",
          "Price": "priceLog10",
          "Test_RMSE": 0.2496693548,
          "Train_RMSE": 0.2389275357,
          "index": 0
         },
         {
          "Biasses": false,
          "Demand": "demandStandardized",
          "Grades": 8,
          "Intercepts": true,
          "Name": "FalseTruedemandStandardizedpriceLog10",
          "Price": "priceLog10",
          "Test_RMSE": 0.2550364535,
          "Train_RMSE": 0.2373780282,
          "index": 0
         },
         {
          "Biasses": false,
          "Demand": "demandStandardized",
          "Grades": 9,
          "Intercepts": true,
          "Name": "FalseTruedemandStandardizedpriceLog10",
          "Price": "priceLog10",
          "Test_RMSE": 0.2530373905,
          "Train_RMSE": 0.23735355,
          "index": 0
         },
         {
          "Biasses": false,
          "Demand": "demandStandardized",
          "Grades": 10,
          "Intercepts": true,
          "Name": "FalseTruedemandStandardizedpriceLog10",
          "Price": "priceLog10",
          "Test_RMSE": 0.2541823321,
          "Train_RMSE": 0.2363282275,
          "index": 0
         }
        ],
        "schema": {
         "fields": [
          {
           "name": "index",
           "type": "integer"
          },
          {
           "name": "Grades",
           "type": "integer"
          },
          {
           "name": "Biasses",
           "type": "boolean"
          },
          {
           "name": "Intercepts",
           "type": "boolean"
          },
          {
           "name": "Demand",
           "type": "string"
          },
          {
           "name": "Price",
           "type": "string"
          },
          {
           "name": "Train_RMSE",
           "type": "number"
          },
          {
           "name": "Test_RMSE",
           "type": "number"
          },
          {
           "name": "Name",
           "type": "string"
          }
         ],
         "pandas_version": "0.20.0"
        }
       },
       "total_rows": 10
      },
      "text/html": [
       "<div>\n",
       "<style scoped>\n",
       "    .dataframe tbody tr th:only-of-type {\n",
       "        vertical-align: middle;\n",
       "    }\n",
       "\n",
       "    .dataframe tbody tr th {\n",
       "        vertical-align: top;\n",
       "    }\n",
       "\n",
       "    .dataframe thead th {\n",
       "        text-align: right;\n",
       "    }\n",
       "</style>\n",
       "<table border=\"1\" class=\"dataframe\">\n",
       "  <thead>\n",
       "    <tr style=\"text-align: right;\">\n",
       "      <th></th>\n",
       "      <th>Grades</th>\n",
       "      <th>Biasses</th>\n",
       "      <th>Intercepts</th>\n",
       "      <th>Demand</th>\n",
       "      <th>Price</th>\n",
       "      <th>Train_RMSE</th>\n",
       "      <th>Test_RMSE</th>\n",
       "      <th>Name</th>\n",
       "    </tr>\n",
       "  </thead>\n",
       "  <tbody>\n",
       "    <tr>\n",
       "      <th>0</th>\n",
       "      <td>1</td>\n",
       "      <td>False</td>\n",
       "      <td>True</td>\n",
       "      <td>demandStandardized</td>\n",
       "      <td>priceLog10</td>\n",
       "      <td>0.244201</td>\n",
       "      <td>0.258260</td>\n",
       "      <td>FalseTruedemandStandardizedpriceLog10</td>\n",
       "    </tr>\n",
       "    <tr>\n",
       "      <th>0</th>\n",
       "      <td>2</td>\n",
       "      <td>False</td>\n",
       "      <td>True</td>\n",
       "      <td>demandStandardized</td>\n",
       "      <td>priceLog10</td>\n",
       "      <td>0.243680</td>\n",
       "      <td>0.256567</td>\n",
       "      <td>FalseTruedemandStandardizedpriceLog10</td>\n",
       "    </tr>\n",
       "    <tr>\n",
       "      <th>0</th>\n",
       "      <td>3</td>\n",
       "      <td>False</td>\n",
       "      <td>True</td>\n",
       "      <td>demandStandardized</td>\n",
       "      <td>priceLog10</td>\n",
       "      <td>0.240097</td>\n",
       "      <td>0.249930</td>\n",
       "      <td>FalseTruedemandStandardizedpriceLog10</td>\n",
       "    </tr>\n",
       "    <tr>\n",
       "      <th>0</th>\n",
       "      <td>4</td>\n",
       "      <td>False</td>\n",
       "      <td>True</td>\n",
       "      <td>demandStandardized</td>\n",
       "      <td>priceLog10</td>\n",
       "      <td>0.239069</td>\n",
       "      <td>0.249792</td>\n",
       "      <td>FalseTruedemandStandardizedpriceLog10</td>\n",
       "    </tr>\n",
       "    <tr>\n",
       "      <th>0</th>\n",
       "      <td>5</td>\n",
       "      <td>False</td>\n",
       "      <td>True</td>\n",
       "      <td>demandStandardized</td>\n",
       "      <td>priceLog10</td>\n",
       "      <td>0.239015</td>\n",
       "      <td>0.249870</td>\n",
       "      <td>FalseTruedemandStandardizedpriceLog10</td>\n",
       "    </tr>\n",
       "    <tr>\n",
       "      <th>0</th>\n",
       "      <td>6</td>\n",
       "      <td>False</td>\n",
       "      <td>True</td>\n",
       "      <td>demandStandardized</td>\n",
       "      <td>priceLog10</td>\n",
       "      <td>0.238994</td>\n",
       "      <td>0.249801</td>\n",
       "      <td>FalseTruedemandStandardizedpriceLog10</td>\n",
       "    </tr>\n",
       "    <tr>\n",
       "      <th>0</th>\n",
       "      <td>7</td>\n",
       "      <td>False</td>\n",
       "      <td>True</td>\n",
       "      <td>demandStandardized</td>\n",
       "      <td>priceLog10</td>\n",
       "      <td>0.238928</td>\n",
       "      <td>0.249669</td>\n",
       "      <td>FalseTruedemandStandardizedpriceLog10</td>\n",
       "    </tr>\n",
       "    <tr>\n",
       "      <th>0</th>\n",
       "      <td>8</td>\n",
       "      <td>False</td>\n",
       "      <td>True</td>\n",
       "      <td>demandStandardized</td>\n",
       "      <td>priceLog10</td>\n",
       "      <td>0.237378</td>\n",
       "      <td>0.255036</td>\n",
       "      <td>FalseTruedemandStandardizedpriceLog10</td>\n",
       "    </tr>\n",
       "    <tr>\n",
       "      <th>0</th>\n",
       "      <td>9</td>\n",
       "      <td>False</td>\n",
       "      <td>True</td>\n",
       "      <td>demandStandardized</td>\n",
       "      <td>priceLog10</td>\n",
       "      <td>0.237354</td>\n",
       "      <td>0.253037</td>\n",
       "      <td>FalseTruedemandStandardizedpriceLog10</td>\n",
       "    </tr>\n",
       "    <tr>\n",
       "      <th>0</th>\n",
       "      <td>10</td>\n",
       "      <td>False</td>\n",
       "      <td>True</td>\n",
       "      <td>demandStandardized</td>\n",
       "      <td>priceLog10</td>\n",
       "      <td>0.236328</td>\n",
       "      <td>0.254182</td>\n",
       "      <td>FalseTruedemandStandardizedpriceLog10</td>\n",
       "    </tr>\n",
       "  </tbody>\n",
       "</table>\n",
       "</div>"
      ],
      "text/plain": [
       "   Grades  Biasses  Intercepts              Demand       Price  Train_RMSE  \\\n",
       "0       1    False        True  demandStandardized  priceLog10    0.244201   \n",
       "0       2    False        True  demandStandardized  priceLog10    0.243680   \n",
       "0       3    False        True  demandStandardized  priceLog10    0.240097   \n",
       "0       4    False        True  demandStandardized  priceLog10    0.239069   \n",
       "0       5    False        True  demandStandardized  priceLog10    0.239015   \n",
       "0       6    False        True  demandStandardized  priceLog10    0.238994   \n",
       "0       7    False        True  demandStandardized  priceLog10    0.238928   \n",
       "0       8    False        True  demandStandardized  priceLog10    0.237378   \n",
       "0       9    False        True  demandStandardized  priceLog10    0.237354   \n",
       "0      10    False        True  demandStandardized  priceLog10    0.236328   \n",
       "\n",
       "   Test_RMSE                                   Name  \n",
       "0   0.258260  FalseTruedemandStandardizedpriceLog10  \n",
       "0   0.256567  FalseTruedemandStandardizedpriceLog10  \n",
       "0   0.249930  FalseTruedemandStandardizedpriceLog10  \n",
       "0   0.249792  FalseTruedemandStandardizedpriceLog10  \n",
       "0   0.249870  FalseTruedemandStandardizedpriceLog10  \n",
       "0   0.249801  FalseTruedemandStandardizedpriceLog10  \n",
       "0   0.249669  FalseTruedemandStandardizedpriceLog10  \n",
       "0   0.255036  FalseTruedemandStandardizedpriceLog10  \n",
       "0   0.253037  FalseTruedemandStandardizedpriceLog10  \n",
       "0   0.254182  FalseTruedemandStandardizedpriceLog10  "
      ]
     },
     "execution_count": 38,
     "metadata": {},
     "output_type": "execute_result"
    }
   ],
   "source": [
    "# Watching Test_RMSE values of winner model by all grades\n",
    "models[(models.Demand == 'demandStandardized') & (models.Price == 'priceLog10') & (models.Biasses == False) & (models.Intercepts == True)]"
   ]
  },
  {
   "cell_type": "code",
   "execution_count": 39,
   "id": "b53120b4-5a01-4c56-9d15-6c56f42f7035",
   "metadata": {},
   "outputs": [
    {
     "data": {
      "application/com.datacamp.data-table.v1+json": {
       "is_truncated": false,
       "table": {
        "data": [
         {
          "Biasses": false,
          "Demand": "demandLog10",
          "Grades": 1,
          "Intercepts": true,
          "Name": "FalseTruedemandLog10priceLog10",
          "Price": "priceLog10",
          "Test_RMSE": 0.2592796225,
          "Train_RMSE": 0.2444551109,
          "index": 0
         },
         {
          "Biasses": false,
          "Demand": "demandLog10",
          "Grades": 2,
          "Intercepts": true,
          "Name": "FalseTruedemandLog10priceLog10",
          "Price": "priceLog10",
          "Test_RMSE": 0.2578886633,
          "Train_RMSE": 0.2440709787,
          "index": 0
         },
         {
          "Biasses": false,
          "Demand": "demandLog10",
          "Grades": 3,
          "Intercepts": true,
          "Name": "FalseTruedemandLog10priceLog10",
          "Price": "priceLog10",
          "Test_RMSE": 0.2524385206,
          "Train_RMSE": 0.2412382289,
          "index": 0
         },
         {
          "Biasses": false,
          "Demand": "demandLog10",
          "Grades": 4,
          "Intercepts": true,
          "Name": "FalseTruedemandLog10priceLog10",
          "Price": "priceLog10",
          "Test_RMSE": 0.2506276885,
          "Train_RMSE": 0.2393880189,
          "index": 0
         },
         {
          "Biasses": false,
          "Demand": "demandLog10",
          "Grades": 5,
          "Intercepts": true,
          "Name": "FalseTruedemandLog10priceLog10",
          "Price": "priceLog10",
          "Test_RMSE": 0.250837728,
          "Train_RMSE": 0.2390807885,
          "index": 0
         },
         {
          "Biasses": false,
          "Demand": "demandLog10",
          "Grades": 6,
          "Intercepts": true,
          "Name": "FalseTruedemandLog10priceLog10",
          "Price": "priceLog10",
          "Test_RMSE": 0.2506696106,
          "Train_RMSE": 0.2390334101,
          "index": 0
         },
         {
          "Biasses": false,
          "Demand": "demandLog10",
          "Grades": 7,
          "Intercepts": true,
          "Name": "FalseTruedemandLog10priceLog10",
          "Price": "priceLog10",
          "Test_RMSE": 0.2506846613,
          "Train_RMSE": 0.2390308648,
          "index": 0
         },
         {
          "Biasses": false,
          "Demand": "demandLog10",
          "Grades": 8,
          "Intercepts": true,
          "Name": "FalseTruedemandLog10priceLog10",
          "Price": "priceLog10",
          "Test_RMSE": 0.2506570259,
          "Train_RMSE": 0.2390282411,
          "index": 0
         },
         {
          "Biasses": false,
          "Demand": "demandLog10",
          "Grades": 9,
          "Intercepts": true,
          "Name": "FalseTruedemandLog10priceLog10",
          "Price": "priceLog10",
          "Test_RMSE": 0.2506485727,
          "Train_RMSE": 0.2390257618,
          "index": 0
         },
         {
          "Biasses": false,
          "Demand": "demandLog10",
          "Grades": 10,
          "Intercepts": true,
          "Name": "FalseTruedemandLog10priceLog10",
          "Price": "priceLog10",
          "Test_RMSE": 0.2506410806,
          "Train_RMSE": 0.2390232724,
          "index": 0
         }
        ],
        "schema": {
         "fields": [
          {
           "name": "index",
           "type": "integer"
          },
          {
           "name": "Grades",
           "type": "integer"
          },
          {
           "name": "Biasses",
           "type": "boolean"
          },
          {
           "name": "Intercepts",
           "type": "boolean"
          },
          {
           "name": "Demand",
           "type": "string"
          },
          {
           "name": "Price",
           "type": "string"
          },
          {
           "name": "Train_RMSE",
           "type": "number"
          },
          {
           "name": "Test_RMSE",
           "type": "number"
          },
          {
           "name": "Name",
           "type": "string"
          }
         ],
         "pandas_version": "0.20.0"
        }
       },
       "total_rows": 10
      },
      "text/html": [
       "<div>\n",
       "<style scoped>\n",
       "    .dataframe tbody tr th:only-of-type {\n",
       "        vertical-align: middle;\n",
       "    }\n",
       "\n",
       "    .dataframe tbody tr th {\n",
       "        vertical-align: top;\n",
       "    }\n",
       "\n",
       "    .dataframe thead th {\n",
       "        text-align: right;\n",
       "    }\n",
       "</style>\n",
       "<table border=\"1\" class=\"dataframe\">\n",
       "  <thead>\n",
       "    <tr style=\"text-align: right;\">\n",
       "      <th></th>\n",
       "      <th>Grades</th>\n",
       "      <th>Biasses</th>\n",
       "      <th>Intercepts</th>\n",
       "      <th>Demand</th>\n",
       "      <th>Price</th>\n",
       "      <th>Train_RMSE</th>\n",
       "      <th>Test_RMSE</th>\n",
       "      <th>Name</th>\n",
       "    </tr>\n",
       "  </thead>\n",
       "  <tbody>\n",
       "    <tr>\n",
       "      <th>0</th>\n",
       "      <td>1</td>\n",
       "      <td>False</td>\n",
       "      <td>True</td>\n",
       "      <td>demandLog10</td>\n",
       "      <td>priceLog10</td>\n",
       "      <td>0.244455</td>\n",
       "      <td>0.259280</td>\n",
       "      <td>FalseTruedemandLog10priceLog10</td>\n",
       "    </tr>\n",
       "    <tr>\n",
       "      <th>0</th>\n",
       "      <td>2</td>\n",
       "      <td>False</td>\n",
       "      <td>True</td>\n",
       "      <td>demandLog10</td>\n",
       "      <td>priceLog10</td>\n",
       "      <td>0.244071</td>\n",
       "      <td>0.257889</td>\n",
       "      <td>FalseTruedemandLog10priceLog10</td>\n",
       "    </tr>\n",
       "    <tr>\n",
       "      <th>0</th>\n",
       "      <td>3</td>\n",
       "      <td>False</td>\n",
       "      <td>True</td>\n",
       "      <td>demandLog10</td>\n",
       "      <td>priceLog10</td>\n",
       "      <td>0.241238</td>\n",
       "      <td>0.252439</td>\n",
       "      <td>FalseTruedemandLog10priceLog10</td>\n",
       "    </tr>\n",
       "    <tr>\n",
       "      <th>0</th>\n",
       "      <td>4</td>\n",
       "      <td>False</td>\n",
       "      <td>True</td>\n",
       "      <td>demandLog10</td>\n",
       "      <td>priceLog10</td>\n",
       "      <td>0.239388</td>\n",
       "      <td>0.250628</td>\n",
       "      <td>FalseTruedemandLog10priceLog10</td>\n",
       "    </tr>\n",
       "    <tr>\n",
       "      <th>0</th>\n",
       "      <td>5</td>\n",
       "      <td>False</td>\n",
       "      <td>True</td>\n",
       "      <td>demandLog10</td>\n",
       "      <td>priceLog10</td>\n",
       "      <td>0.239081</td>\n",
       "      <td>0.250838</td>\n",
       "      <td>FalseTruedemandLog10priceLog10</td>\n",
       "    </tr>\n",
       "    <tr>\n",
       "      <th>0</th>\n",
       "      <td>6</td>\n",
       "      <td>False</td>\n",
       "      <td>True</td>\n",
       "      <td>demandLog10</td>\n",
       "      <td>priceLog10</td>\n",
       "      <td>0.239033</td>\n",
       "      <td>0.250670</td>\n",
       "      <td>FalseTruedemandLog10priceLog10</td>\n",
       "    </tr>\n",
       "    <tr>\n",
       "      <th>0</th>\n",
       "      <td>7</td>\n",
       "      <td>False</td>\n",
       "      <td>True</td>\n",
       "      <td>demandLog10</td>\n",
       "      <td>priceLog10</td>\n",
       "      <td>0.239031</td>\n",
       "      <td>0.250685</td>\n",
       "      <td>FalseTruedemandLog10priceLog10</td>\n",
       "    </tr>\n",
       "    <tr>\n",
       "      <th>0</th>\n",
       "      <td>8</td>\n",
       "      <td>False</td>\n",
       "      <td>True</td>\n",
       "      <td>demandLog10</td>\n",
       "      <td>priceLog10</td>\n",
       "      <td>0.239028</td>\n",
       "      <td>0.250657</td>\n",
       "      <td>FalseTruedemandLog10priceLog10</td>\n",
       "    </tr>\n",
       "    <tr>\n",
       "      <th>0</th>\n",
       "      <td>9</td>\n",
       "      <td>False</td>\n",
       "      <td>True</td>\n",
       "      <td>demandLog10</td>\n",
       "      <td>priceLog10</td>\n",
       "      <td>0.239026</td>\n",
       "      <td>0.250649</td>\n",
       "      <td>FalseTruedemandLog10priceLog10</td>\n",
       "    </tr>\n",
       "    <tr>\n",
       "      <th>0</th>\n",
       "      <td>10</td>\n",
       "      <td>False</td>\n",
       "      <td>True</td>\n",
       "      <td>demandLog10</td>\n",
       "      <td>priceLog10</td>\n",
       "      <td>0.239023</td>\n",
       "      <td>0.250641</td>\n",
       "      <td>FalseTruedemandLog10priceLog10</td>\n",
       "    </tr>\n",
       "  </tbody>\n",
       "</table>\n",
       "</div>"
      ],
      "text/plain": [
       "   Grades  Biasses  Intercepts       Demand       Price  Train_RMSE  \\\n",
       "0       1    False        True  demandLog10  priceLog10    0.244455   \n",
       "0       2    False        True  demandLog10  priceLog10    0.244071   \n",
       "0       3    False        True  demandLog10  priceLog10    0.241238   \n",
       "0       4    False        True  demandLog10  priceLog10    0.239388   \n",
       "0       5    False        True  demandLog10  priceLog10    0.239081   \n",
       "0       6    False        True  demandLog10  priceLog10    0.239033   \n",
       "0       7    False        True  demandLog10  priceLog10    0.239031   \n",
       "0       8    False        True  demandLog10  priceLog10    0.239028   \n",
       "0       9    False        True  demandLog10  priceLog10    0.239026   \n",
       "0      10    False        True  demandLog10  priceLog10    0.239023   \n",
       "\n",
       "   Test_RMSE                            Name  \n",
       "0   0.259280  FalseTruedemandLog10priceLog10  \n",
       "0   0.257889  FalseTruedemandLog10priceLog10  \n",
       "0   0.252439  FalseTruedemandLog10priceLog10  \n",
       "0   0.250628  FalseTruedemandLog10priceLog10  \n",
       "0   0.250838  FalseTruedemandLog10priceLog10  \n",
       "0   0.250670  FalseTruedemandLog10priceLog10  \n",
       "0   0.250685  FalseTruedemandLog10priceLog10  \n",
       "0   0.250657  FalseTruedemandLog10priceLog10  \n",
       "0   0.250649  FalseTruedemandLog10priceLog10  \n",
       "0   0.250641  FalseTruedemandLog10priceLog10  "
      ]
     },
     "execution_count": 39,
     "metadata": {},
     "output_type": "execute_result"
    }
   ],
   "source": [
    "# Watching Test_RMSE values of model with Demand = demandLog10, Price = priceLog10, Biasses = False and Intercept = True by all grades\n",
    "models[(models.Demand == 'demandLog10') & (models.Price == 'priceLog10') & (models.Biasses == False) & (models.Intercepts == True)]"
   ]
  },
  {
   "cell_type": "code",
   "execution_count": 42,
   "id": "876ae140-8c68-46f8-9e38-1e9408d57898",
   "metadata": {},
   "outputs": [
    {
     "data": {
      "application/com.datacamp.data-table.v1+json": {
       "is_truncated": false,
       "table": {
        "data": [
         {
          "Test_RMSE": 0.9628913979,
          "Train_RMSE": 0.9834305157,
          "index": 0,
          "name": "LinRegStandGrade1"
         },
         {
          "Test_RMSE": 0.8864235586,
          "Train_RMSE": 0.9608120146,
          "index": 1,
          "name": "LinRegStandGrade2"
         },
         {
          "Test_RMSE": 0.7263322428,
          "Train_RMSE": 0.927844618,
          "index": 2,
          "name": "LinRegStandGrade3"
         },
         {
          "Test_RMSE": 0.6166109303,
          "Train_RMSE": 0.9188551405,
          "index": 3,
          "name": "LinRegStandGrade4"
         },
         {
          "Test_RMSE": 0.5988000073,
          "Train_RMSE": 0.9187393665,
          "index": 4,
          "name": "LinRegStandGrade5"
         },
         {
          "Test_RMSE": 0.7066836094,
          "Train_RMSE": 0.9174482863,
          "index": 5,
          "name": "LinRegStandGrade6"
         },
         {
          "Test_RMSE": 1.0407215357,
          "Train_RMSE": 0.9147969156,
          "index": 6,
          "name": "LinRegStandGrade7"
         },
         {
          "Test_RMSE": 1.5766303299,
          "Train_RMSE": 0.9130472344,
          "index": 7,
          "name": "LinRegStandGrade8"
         },
         {
          "Test_RMSE": 1.0072190243,
          "Train_RMSE": 0.9123993626,
          "index": 8,
          "name": "LinRegStandGrade9"
         },
         {
          "Test_RMSE": 2.6085663896,
          "Train_RMSE": 0.9063328672,
          "index": 9,
          "name": "LinRegStandGrade10"
         }
        ],
        "schema": {
         "fields": [
          {
           "name": "index",
           "type": "integer"
          },
          {
           "name": "name",
           "type": "string"
          },
          {
           "name": "Train_RMSE",
           "type": "number"
          },
          {
           "name": "Test_RMSE",
           "type": "number"
          }
         ],
         "pandas_version": "0.20.0",
         "primaryKey": [
          "index"
         ]
        }
       },
       "total_rows": 10
      },
      "text/html": [
       "<div>\n",
       "<style scoped>\n",
       "    .dataframe tbody tr th:only-of-type {\n",
       "        vertical-align: middle;\n",
       "    }\n",
       "\n",
       "    .dataframe tbody tr th {\n",
       "        vertical-align: top;\n",
       "    }\n",
       "\n",
       "    .dataframe thead th {\n",
       "        text-align: right;\n",
       "    }\n",
       "</style>\n",
       "<table border=\"1\" class=\"dataframe\">\n",
       "  <thead>\n",
       "    <tr style=\"text-align: right;\">\n",
       "      <th></th>\n",
       "      <th>name</th>\n",
       "      <th>Train_RMSE</th>\n",
       "      <th>Test_RMSE</th>\n",
       "    </tr>\n",
       "  </thead>\n",
       "  <tbody>\n",
       "    <tr>\n",
       "      <th>0</th>\n",
       "      <td>LinRegStandGrade1</td>\n",
       "      <td>0.983431</td>\n",
       "      <td>0.962891</td>\n",
       "    </tr>\n",
       "    <tr>\n",
       "      <th>1</th>\n",
       "      <td>LinRegStandGrade2</td>\n",
       "      <td>0.960812</td>\n",
       "      <td>0.886424</td>\n",
       "    </tr>\n",
       "    <tr>\n",
       "      <th>2</th>\n",
       "      <td>LinRegStandGrade3</td>\n",
       "      <td>0.927845</td>\n",
       "      <td>0.726332</td>\n",
       "    </tr>\n",
       "    <tr>\n",
       "      <th>3</th>\n",
       "      <td>LinRegStandGrade4</td>\n",
       "      <td>0.918855</td>\n",
       "      <td>0.616611</td>\n",
       "    </tr>\n",
       "    <tr>\n",
       "      <th>4</th>\n",
       "      <td>LinRegStandGrade5</td>\n",
       "      <td>0.918739</td>\n",
       "      <td>0.598800</td>\n",
       "    </tr>\n",
       "    <tr>\n",
       "      <th>5</th>\n",
       "      <td>LinRegStandGrade6</td>\n",
       "      <td>0.917448</td>\n",
       "      <td>0.706684</td>\n",
       "    </tr>\n",
       "    <tr>\n",
       "      <th>6</th>\n",
       "      <td>LinRegStandGrade7</td>\n",
       "      <td>0.914797</td>\n",
       "      <td>1.040722</td>\n",
       "    </tr>\n",
       "    <tr>\n",
       "      <th>7</th>\n",
       "      <td>LinRegStandGrade8</td>\n",
       "      <td>0.913047</td>\n",
       "      <td>1.576630</td>\n",
       "    </tr>\n",
       "    <tr>\n",
       "      <th>8</th>\n",
       "      <td>LinRegStandGrade9</td>\n",
       "      <td>0.912399</td>\n",
       "      <td>1.007219</td>\n",
       "    </tr>\n",
       "    <tr>\n",
       "      <th>9</th>\n",
       "      <td>LinRegStandGrade10</td>\n",
       "      <td>0.906333</td>\n",
       "      <td>2.608566</td>\n",
       "    </tr>\n",
       "  </tbody>\n",
       "</table>\n",
       "</div>"
      ],
      "text/plain": [
       "                 name  Train_RMSE  Test_RMSE\n",
       "0   LinRegStandGrade1    0.983431   0.962891\n",
       "1   LinRegStandGrade2    0.960812   0.886424\n",
       "2   LinRegStandGrade3    0.927845   0.726332\n",
       "3   LinRegStandGrade4    0.918855   0.616611\n",
       "4   LinRegStandGrade5    0.918739   0.598800\n",
       "5   LinRegStandGrade6    0.917448   0.706684\n",
       "6   LinRegStandGrade7    0.914797   1.040722\n",
       "7   LinRegStandGrade8    0.913047   1.576630\n",
       "8   LinRegStandGrade9    0.912399   1.007219\n",
       "9  LinRegStandGrade10    0.906333   2.608566"
      ]
     },
     "execution_count": 42,
     "metadata": {},
     "output_type": "execute_result"
    }
   ],
   "source": [
    "# Using function\n",
    "\n",
    "# Inputs\n",
    "df_X = pd.DataFrame(df['demand'])\n",
    "df_y = pd.DataFrame(df['price'])\n",
    "\n",
    "# Get Models\n",
    "models = create_models_stand_grades_demand(df_X, df_y, to_the_degree=10)\n",
    "models"
   ]
  },
  {
   "cell_type": "code",
   "execution_count": 34,
   "id": "381ef083-571c-4a9e-829e-0079e2d5bdd3",
   "metadata": {},
   "outputs": [
    {
     "data": {
      "application/com.datacamp.data-table.v1+json": {
       "is_truncated": false,
       "table": {
        "data": [
         {
          "Grades": 1,
          "Test_RMSE": 0.9628913979,
          "Train_RMSE": 0.9834305157,
          "name": "LinRegStandGrade1"
         },
         {
          "Grades": 2,
          "Test_RMSE": 0.8864235586,
          "Train_RMSE": 0.9608120146,
          "name": "LinRegStandGrade2"
         },
         {
          "Grades": 3,
          "Test_RMSE": 0.7263322428,
          "Train_RMSE": 0.927844618,
          "name": "LinRegStandGrade3"
         },
         {
          "Grades": 4,
          "Test_RMSE": 0.6166109303,
          "Train_RMSE": 0.9188551405,
          "name": "LinRegStandGrade4"
         },
         {
          "Grades": 5,
          "Test_RMSE": 0.5988000073,
          "Train_RMSE": 0.9187393665,
          "name": "LinRegStandGrade5"
         },
         {
          "Grades": 6,
          "Test_RMSE": 0.7066836094,
          "Train_RMSE": 0.9174482863,
          "name": "LinRegStandGrade6"
         },
         {
          "Grades": 7,
          "Test_RMSE": 1.0407215357,
          "Train_RMSE": 0.9147969156,
          "name": "LinRegStandGrade7"
         },
         {
          "Grades": 8,
          "Test_RMSE": 1.5766303299,
          "Train_RMSE": 0.9130472344,
          "name": "LinRegStandGrade8"
         },
         {
          "Grades": 9,
          "Test_RMSE": 1.0072190243,
          "Train_RMSE": 0.9123993626,
          "name": "LinRegStandGrade9"
         },
         {
          "Grades": 10,
          "Test_RMSE": 2.6085663896,
          "Train_RMSE": 0.9063328672,
          "name": "LinRegStandGrade10"
         }
        ],
        "schema": {
         "fields": [
          {
           "name": "Grades",
           "type": "integer"
          },
          {
           "name": "name",
           "type": "string"
          },
          {
           "name": "Train_RMSE",
           "type": "number"
          },
          {
           "name": "Test_RMSE",
           "type": "number"
          }
         ],
         "pandas_version": "0.20.0",
         "primaryKey": [
          "Grades"
         ]
        }
       },
       "total_rows": 10
      },
      "text/html": [
       "<div>\n",
       "<style scoped>\n",
       "    .dataframe tbody tr th:only-of-type {\n",
       "        vertical-align: middle;\n",
       "    }\n",
       "\n",
       "    .dataframe tbody tr th {\n",
       "        vertical-align: top;\n",
       "    }\n",
       "\n",
       "    .dataframe thead th {\n",
       "        text-align: right;\n",
       "    }\n",
       "</style>\n",
       "<table border=\"1\" class=\"dataframe\">\n",
       "  <thead>\n",
       "    <tr style=\"text-align: right;\">\n",
       "      <th></th>\n",
       "      <th>name</th>\n",
       "      <th>Train_RMSE</th>\n",
       "      <th>Test_RMSE</th>\n",
       "    </tr>\n",
       "    <tr>\n",
       "      <th>Grades</th>\n",
       "      <th></th>\n",
       "      <th></th>\n",
       "      <th></th>\n",
       "    </tr>\n",
       "  </thead>\n",
       "  <tbody>\n",
       "    <tr>\n",
       "      <th>1</th>\n",
       "      <td>LinRegStandGrade1</td>\n",
       "      <td>0.983431</td>\n",
       "      <td>0.962891</td>\n",
       "    </tr>\n",
       "    <tr>\n",
       "      <th>2</th>\n",
       "      <td>LinRegStandGrade2</td>\n",
       "      <td>0.960812</td>\n",
       "      <td>0.886424</td>\n",
       "    </tr>\n",
       "    <tr>\n",
       "      <th>3</th>\n",
       "      <td>LinRegStandGrade3</td>\n",
       "      <td>0.927845</td>\n",
       "      <td>0.726332</td>\n",
       "    </tr>\n",
       "    <tr>\n",
       "      <th>4</th>\n",
       "      <td>LinRegStandGrade4</td>\n",
       "      <td>0.918855</td>\n",
       "      <td>0.616611</td>\n",
       "    </tr>\n",
       "    <tr>\n",
       "      <th>5</th>\n",
       "      <td>LinRegStandGrade5</td>\n",
       "      <td>0.918739</td>\n",
       "      <td>0.598800</td>\n",
       "    </tr>\n",
       "    <tr>\n",
       "      <th>6</th>\n",
       "      <td>LinRegStandGrade6</td>\n",
       "      <td>0.917448</td>\n",
       "      <td>0.706684</td>\n",
       "    </tr>\n",
       "    <tr>\n",
       "      <th>7</th>\n",
       "      <td>LinRegStandGrade7</td>\n",
       "      <td>0.914797</td>\n",
       "      <td>1.040722</td>\n",
       "    </tr>\n",
       "    <tr>\n",
       "      <th>8</th>\n",
       "      <td>LinRegStandGrade8</td>\n",
       "      <td>0.913047</td>\n",
       "      <td>1.576630</td>\n",
       "    </tr>\n",
       "    <tr>\n",
       "      <th>9</th>\n",
       "      <td>LinRegStandGrade9</td>\n",
       "      <td>0.912399</td>\n",
       "      <td>1.007219</td>\n",
       "    </tr>\n",
       "    <tr>\n",
       "      <th>10</th>\n",
       "      <td>LinRegStandGrade10</td>\n",
       "      <td>0.906333</td>\n",
       "      <td>2.608566</td>\n",
       "    </tr>\n",
       "  </tbody>\n",
       "</table>\n",
       "</div>"
      ],
      "text/plain": [
       "                      name  Train_RMSE  Test_RMSE\n",
       "Grades                                           \n",
       "1        LinRegStandGrade1    0.983431   0.962891\n",
       "2        LinRegStandGrade2    0.960812   0.886424\n",
       "3        LinRegStandGrade3    0.927845   0.726332\n",
       "4        LinRegStandGrade4    0.918855   0.616611\n",
       "5        LinRegStandGrade5    0.918739   0.598800\n",
       "6        LinRegStandGrade6    0.917448   0.706684\n",
       "7        LinRegStandGrade7    0.914797   1.040722\n",
       "8        LinRegStandGrade8    0.913047   1.576630\n",
       "9        LinRegStandGrade9    0.912399   1.007219\n",
       "10      LinRegStandGrade10    0.906333   2.608566"
      ]
     },
     "execution_count": 34,
     "metadata": {},
     "output_type": "execute_result"
    }
   ],
   "source": [
    "models.index.name = 'Grades'\n",
    "models"
   ]
  },
  {
   "cell_type": "code",
   "execution_count": 36,
   "id": "95cac0ad-9f39-4ef1-bda8-1ea4fd8c1282",
   "metadata": {},
   "outputs": [
    {
     "data": {
      "text/plain": [
       "<AxesSubplot:xlabel='Grades'>"
      ]
     },
     "execution_count": 36,
     "metadata": {},
     "output_type": "execute_result"
    },
    {
     "data": {
      "image/png": "[encoded data removed]",
      "text/plain": [
       "<Figure size 432x288 with 1 Axes>"
      ]
     },
     "metadata": {
      "needs_background": "light"
     },
     "output_type": "display_data"
    }
   ],
   "source": [
    "import seaborn as sns\n",
    "sns.lineplot(data=models.iloc[:,1:3], markers=True)"
   ]
  },
  {
   "cell_type": "code",
   "execution_count": 50,
   "id": "34145ac3-999e-4f31-81b3-c892760d2003",
   "metadata": {},
   "outputs": [
    {
     "data": {
      "text/html": [
       "<div>\n",
       "<style scoped>\n",
       "    .dataframe tbody tr th:only-of-type {\n",
       "        vertical-align: middle;\n",
       "    }\n",
       "\n",
       "    .dataframe tbody tr th {\n",
       "        vertical-align: top;\n",
       "    }\n",
       "\n",
       "    .dataframe thead th {\n",
       "        text-align: right;\n",
       "    }\n",
       "</style>\n",
       "<table border=\"1\" class=\"dataframe\">\n",
       "  <thead>\n",
       "    <tr style=\"text-align: right;\">\n",
       "      <th></th>\n",
       "      <th>Grades</th>\n",
       "      <th>Biasses</th>\n",
       "      <th>Intercepts</th>\n",
       "      <th>Demand</th>\n",
       "      <th>Price</th>\n",
       "      <th>Train_RMSE</th>\n",
       "      <th>Test_RMSE</th>\n",
       "    </tr>\n",
       "    <tr>\n",
       "      <th>Grades</th>\n",
       "      <th></th>\n",
       "      <th></th>\n",
       "      <th></th>\n",
       "      <th></th>\n",
       "      <th></th>\n",
       "      <th></th>\n",
       "      <th></th>\n",
       "    </tr>\n",
       "  </thead>\n",
       "  <tbody>\n",
       "    <tr>\n",
       "      <th>1</th>\n",
       "      <td>1</td>\n",
       "      <td>False</td>\n",
       "      <td>False</td>\n",
       "      <td>demandStandardized</td>\n",
       "      <td>priceLog10</td>\n",
       "      <td>1.806152</td>\n",
       "      <td>1.798259</td>\n",
       "    </tr>\n",
       "    <tr>\n",
       "      <th>2</th>\n",
       "      <td>2</td>\n",
       "      <td>False</td>\n",
       "      <td>False</td>\n",
       "      <td>demandStandardized</td>\n",
       "      <td>priceLog10</td>\n",
       "      <td>1.423783</td>\n",
       "      <td>1.396584</td>\n",
       "    </tr>\n",
       "    <tr>\n",
       "      <th>3</th>\n",
       "      <td>3</td>\n",
       "      <td>False</td>\n",
       "      <td>False</td>\n",
       "      <td>demandStandardized</td>\n",
       "      <td>priceLog10</td>\n",
       "      <td>1.406735</td>\n",
       "      <td>1.369981</td>\n",
       "    </tr>\n",
       "    <tr>\n",
       "      <th>4</th>\n",
       "      <td>4</td>\n",
       "      <td>False</td>\n",
       "      <td>False</td>\n",
       "      <td>demandStandardized</td>\n",
       "      <td>priceLog10</td>\n",
       "      <td>1.260991</td>\n",
       "      <td>1.286062</td>\n",
       "    </tr>\n",
       "    <tr>\n",
       "      <th>5</th>\n",
       "      <td>5</td>\n",
       "      <td>False</td>\n",
       "      <td>False</td>\n",
       "      <td>demandStandardized</td>\n",
       "      <td>priceLog10</td>\n",
       "      <td>1.207160</td>\n",
       "      <td>1.181806</td>\n",
       "    </tr>\n",
       "    <tr>\n",
       "      <th>6</th>\n",
       "      <td>6</td>\n",
       "      <td>False</td>\n",
       "      <td>False</td>\n",
       "      <td>demandStandardized</td>\n",
       "      <td>priceLog10</td>\n",
       "      <td>1.149682</td>\n",
       "      <td>1.202251</td>\n",
       "    </tr>\n",
       "    <tr>\n",
       "      <th>7</th>\n",
       "      <td>7</td>\n",
       "      <td>False</td>\n",
       "      <td>False</td>\n",
       "      <td>demandStandardized</td>\n",
       "      <td>priceLog10</td>\n",
       "      <td>1.072567</td>\n",
       "      <td>1.056207</td>\n",
       "    </tr>\n",
       "    <tr>\n",
       "      <th>8</th>\n",
       "      <td>8</td>\n",
       "      <td>False</td>\n",
       "      <td>False</td>\n",
       "      <td>demandStandardized</td>\n",
       "      <td>priceLog10</td>\n",
       "      <td>1.050685</td>\n",
       "      <td>1.191189</td>\n",
       "    </tr>\n",
       "    <tr>\n",
       "      <th>9</th>\n",
       "      <td>9</td>\n",
       "      <td>False</td>\n",
       "      <td>False</td>\n",
       "      <td>demandStandardized</td>\n",
       "      <td>priceLog10</td>\n",
       "      <td>0.976265</td>\n",
       "      <td>1.111251</td>\n",
       "    </tr>\n",
       "    <tr>\n",
       "      <th>10</th>\n",
       "      <td>10</td>\n",
       "      <td>False</td>\n",
       "      <td>False</td>\n",
       "      <td>demandStandardized</td>\n",
       "      <td>priceLog10</td>\n",
       "      <td>0.974061</td>\n",
       "      <td>1.291597</td>\n",
       "    </tr>\n",
       "  </tbody>\n",
       "</table>\n",
       "</div>"
      ],
      "text/plain": [
       "        Grades  Biasses  Intercepts              Demand       Price  \\\n",
       "Grades                                                                \n",
       "1            1    False       False  demandStandardized  priceLog10   \n",
       "2            2    False       False  demandStandardized  priceLog10   \n",
       "3            3    False       False  demandStandardized  priceLog10   \n",
       "4            4    False       False  demandStandardized  priceLog10   \n",
       "5            5    False       False  demandStandardized  priceLog10   \n",
       "6            6    False       False  demandStandardized  priceLog10   \n",
       "7            7    False       False  demandStandardized  priceLog10   \n",
       "8            8    False       False  demandStandardized  priceLog10   \n",
       "9            9    False       False  demandStandardized  priceLog10   \n",
       "10          10    False       False  demandStandardized  priceLog10   \n",
       "\n",
       "        Train_RMSE  Test_RMSE  \n",
       "Grades                         \n",
       "1         1.806152   1.798259  \n",
       "2         1.423783   1.396584  \n",
       "3         1.406735   1.369981  \n",
       "4         1.260991   1.286062  \n",
       "5         1.207160   1.181806  \n",
       "6         1.149682   1.202251  \n",
       "7         1.072567   1.056207  \n",
       "8         1.050685   1.191189  \n",
       "9         0.976265   1.111251  \n",
       "10        0.974061   1.291597  "
      ]
     },
     "execution_count": 50,
     "metadata": {},
     "output_type": "execute_result"
    }
   ],
   "source": [
    "df_to_plot = df_summary[(df_summary.Biasses == False) & (df_summary.Intercepts == False) & (df_summary.Demand == 'demandStandardized') & (df_summary.Price == 'priceLog10')]\n",
    "df_to_plot.index = df_to_plot.Grades\n",
    "df_to_plot"
   ]
  },
  {
   "cell_type": "code",
   "execution_count": 51,
   "id": "6c4ccdf2-1fa0-42c3-8c97-3db475675f2b",
   "metadata": {},
   "outputs": [
    {
     "data": {
      "text/plain": [
       "<AxesSubplot:xlabel='Grades'>"
      ]
     },
     "execution_count": 51,
     "metadata": {},
     "output_type": "execute_result"
    },
    {
     "data": {
      "image/png": "[encoded data removed]",
      "text/plain": [
       "<Figure size 432x288 with 1 Axes>"
      ]
     },
     "metadata": {
      "needs_background": "light"
     },
     "output_type": "display_data"
    }
   ],
   "source": [
    "import seaborn as sns\n",
    "sns.lineplot(data=df_to_plot[(df_to_plot.Biasses == False) & (df_to_plot.Intercepts == False) & (df_to_plot.Demand == 'demandStandardized') & (df_to_plot.Price == 'priceLog10')].iloc[:,5:7], markers=True)"
   ]
  },
  {
   "cell_type": "code",
   "execution_count": null,
   "id": "024ad694-98a8-4f28-936a-38d63a35d5c0",
   "metadata": {},
   "outputs": [
    {
     "data": {
      "text/plain": [
       "[<matplotlib.lines.Line2D at 0x7efd4b5a1130>]"
      ]
     },
     "execution_count": 26,
     "metadata": {},
     "output_type": "execute_result"
    },
    {
     "data": {
      "image/png": "[encoded data removed]",
      "text/plain": [
       "<Figure size 432x288 with 1 Axes>"
      ]
     },
     "metadata": {
      "needs_background": "light"
     },
     "output_type": "display_data"
    }
   ],
   "source": [
    "from sklearn.preprocessing import StandardScaler, PolynomialFeatures\n",
    "from sklearn.model_selection import train_test_split\n",
    "\n",
    "# Standardize demand and price\n",
    "standardizer = StandardScaler()\n",
    "df['demandStandardized'] = standardizer.fit_transform(df.demand.values.reshape(-1,1))\n",
    "df['priceStandardized'] = standardizer.fit_transform(df.price.values.reshape(-1,1))\n",
    "\n",
    "\n",
    "# Scatter Plot\n",
    "# sns.scatterplot(data=df, x=\"demandStandardized\", y=\"priceStandardized\", alpha=0.3)\n",
    "# plt.show()\n",
    "\n",
    "# Crete new variables with different grades of demandLog10 variable\n",
    "polyfeatures = PolynomialFeatures(degree=1, include_bias=False)\n",
    "X_demand = polyfeatures.fit_transform(np.array(df.demandStandardized).reshape(-1, 1))\n",
    "X_demand\n",
    "\n",
    "# Fit model\n",
    "from sklearn.linear_model import LinearRegression\n",
    "model = LinearRegression(fit_intercept=False)\n",
    "model.fit(X_demand, df.priceStandardized)\n",
    "predictions = model.predict(X_demand)\n",
    "predictions\n",
    "\n",
    "\n",
    "# Plot predictions\n",
    "# Initialize layout\n",
    "fig, ax = plt.subplots()\n",
    "\n",
    "# Add scatterplot\n",
    "ax.scatter(df.demandStandardized, df.priceStandardized, s=60, alpha=0.2, edgecolors=\"k\")\n",
    "\n",
    "# Plot regression line\n",
    "ax.plot(df.demandStandardized, predictions)"
   ]
  },
  {
   "cell_type": "code",
   "execution_count": null,
   "id": "10daadfa-1ff1-4ca1-ac94-7801cf84a35b",
   "metadata": {},
   "outputs": [
    {
     "data": {
      "image/png": "[encoded data removed]",
      "text/plain": [
       "<Figure size 432x288 with 1 Axes>"
      ]
     },
     "metadata": {
      "needs_background": "light"
     },
     "output_type": "display_data"
    }
   ],
   "source": [
    "# Plot scatter plot for both variables\n",
    "import numpy as np\n",
    "df['demandLog10'] = df.demand.apply(lambda x: np.log10(x))\n",
    "df['priceLog10'] = df.price.apply(lambda x: np.log10(x))\n",
    "sns.scatterplot(data=df, x=\"demandLog10\", y=\"priceLog10\", alpha=0.3)\n",
    "plt.show()"
   ]
  },
  {
   "cell_type": "code",
   "execution_count": null,
   "id": "0caf3f17-96b2-4d6c-84f9-eab4524db709",
   "metadata": {},
   "outputs": [
    {
     "data": {
      "text/plain": [
       "array([[   4.99841206,   24.98412308,  124.88094201,  624.20640611,\n",
       "        3120.04082566],\n",
       "       [   5.11262514,   26.13893583,  133.63858048,  683.24396634,\n",
       "        3493.17027964],\n",
       "       [   5.15320655,   26.55553773,  136.84617091,  705.19658401,\n",
       "        3634.02365446],\n",
       "       ...,\n",
       "       [   4.97350453,   24.73574734,  123.02335153,  611.85719649,\n",
       "        3043.07454033],\n",
       "       [   5.05541667,   25.55723775,  129.20248589,  653.17240156,\n",
       "        3302.05865021],\n",
       "       [   5.08851725,   25.8930078 ,  131.75701684,  670.44785294,\n",
       "        3411.58546469]])"
      ]
     },
     "execution_count": 15,
     "metadata": {},
     "output_type": "execute_result"
    }
   ],
   "source": [
    "# Crete new variables with different grades of demandLog10 variable\n",
    "from sklearn.preprocessing import PolynomialFeatures\n",
    "polyfeatures = PolynomialFeatures(degree=5, include_bias=False)\n",
    "X_demand = polyfeatures.fit_transform(np.array(df.demandLog10).reshape(-1, 1))\n",
    "X_demand"
   ]
  },
  {
   "cell_type": "code",
   "execution_count": null,
   "id": "54a2bde6-4d92-4171-9100-6df8551fb320",
   "metadata": {},
   "outputs": [
    {
     "data": {
      "text/plain": [
       "array([ 34.79055673,  54.99026343, 108.56588364, ...,  34.95746996,\n",
       "        81.51030864,  70.53690625])"
      ]
     },
     "execution_count": 18,
     "metadata": {},
     "output_type": "execute_result"
    }
   ],
   "source": [
    "# Third fit polinomial model\n",
    "from sklearn.linear_model import LinearRegression\n",
    "model = LinearRegression(fit_intercept=False)\n",
    "#model = LinearRegression()\n",
    "model.fit(X_demand, df.price)\n",
    "predictions = model.predict(X_demand)\n",
    "predictions"
   ]
  },
  {
   "cell_type": "code",
   "execution_count": null,
   "id": "9e2f1710-2ba2-4e6b-929b-66d2376d5a92",
   "metadata": {},
   "outputs": [],
   "source": [
    "from sklearn.preprocessing import PolynomialFeatures, StandardScaler\n",
    "from sklearn import linear_model\n",
    "from sklearn.linear_model import LinearRegression\n",
    "from sklearn.pipeline import Pipeline\n",
    "import numpy as np\n",
    "\n",
    "# First Standardize features\n",
    "scaler = StandardScaler()\n",
    "X = np.array(df[df.price < 179.63][['price','demand']])\n",
    "#X = df[['price','demand']]\n",
    "scaler.fit(X)\n",
    "data_centered = scaler.transform(X)\n",
    "demand = [i[1] for i in data_centered]\n",
    "price = [i[0] for i in data_centered]\n",
    "\n",
    "# Second Create polinomial combination of demand\n",
    "polyfea = PolynomialFeatures(degree=2, include_bias=False)\n",
    "X_demand = polyfea.fit_transform(np.array(demand).reshape(-1, 1))\n",
    "\n",
    "# Third fit polinomial model\n",
    "model = LinearRegression(fit_intercept=False)\n",
    "#model = LinearRegression()\n",
    "model.fit(X_demand, price)\n",
    "predictions = model.predict(X_demand)\n",
    "#b, c, d, e, f = model.coef_\n",
    "#y_hat = [i * np.array([b, c, d, e, f]) for i in X_demand]\n",
    "#y_hat = [np.sum(i) for i in y_hat]"
   ]
  },
  {
   "cell_type": "code",
   "execution_count": null,
   "id": "42218dc7-7dc1-481a-ac2a-a6bf6a444fad",
   "metadata": {},
   "outputs": [
    {
     "data": {
      "text/plain": [
       "<matplotlib.collections.PathCollection at 0x7f1ab0a33ca0>"
      ]
     },
     "execution_count": 8,
     "metadata": {},
     "output_type": "execute_result"
    },
    {
     "data": {
      "image/png": "[encoded data removed]",
      "text/plain": [
       "<Figure size 432x288 with 1 Axes>"
      ]
     },
     "metadata": {
      "needs_background": "light"
     },
     "output_type": "display_data"
    }
   ],
   "source": [
    "from sklearn.preprocessing import PolynomialFeatures\n",
    "from sklearn.pipeline import Pipeline\n",
    "import numpy as np\n",
    "\n",
    "# Initialize layout\n",
    "fig, ax = plt.subplots()\n",
    "\n",
    "# Add scatterplot\n",
    "ax.scatter(np.log10(df.demand), np.log10(df.price), s=60, alpha=0.2, edgecolors=\"k\")\n",
    "#ax.scatter(df.demand.values, y_hat, s=60, alpha=0.2, edgecolors=\"k\")\n",
    "\n",
    "\n",
    "# Plot regression line\n",
    "#ax.plot(demand, predictions)"
   ]
  },
  {
   "cell_type": "code",
   "execution_count": null,
   "id": "ddacdc32-24af-409d-8809-9cf3687d7562",
   "metadata": {},
   "outputs": [
    {
     "data": {
      "image/png": "[encoded data removed]",
      "text/plain": [
       "<Figure size 432x288 with 1 Axes>"
      ]
     },
     "metadata": {
      "needs_background": "light"
     },
     "output_type": "display_data"
    }
   ],
   "source": []
  },
  {
   "cell_type": "markdown",
   "id": "b68e19c6-7a99-423e-9196-1b1cac253e4a",
   "metadata": {},
   "source": [
    "The Demand and Supply depend on many things. For example, Demand could depend of family income, Gross Domestic Product [GDP], Customer Expectations about the Energy Price, Fossil Fuel Prices, Weather Conditions, the variables in the data set, etc. Supply depend of Capital Invested in Production, Goverment Spend in Energy Market, Energy Market Regulations, etc. So each one could be a function itself.\n",
    "\n",
    "$Demand = Q(Many Variables)$\n",
    "\n",
    "$Supply = S(Many Variables)$\n",
    "\n",
    ", however it will be assumed that each one will depend of different units of time i.e. year, month, day of week like the energy's price. Below it will be shown the Demand and Supply behavior across time.\n",
    "\n",
    "\n",
    "$Demand = Q(different units of time)$\n",
    "\n",
    "$Supply = S(different units of time)$\n",
    "\n",
    "\n",
    "The energy's price have a positive relationship with the demand, demand_pos_price and price_positive variables. There are a negative relationship with the demand_neg_price, frac_neg_price, min_temperature, max_temperature, solar_exposure and rainfall.\n",
    "\n",
    "\n",
    "- \"date\" - from January 1, 2015, to October 6, 2020.\n",
    "- \"demand\" - daily electricity demand in MWh.\n",
    "- \"price\" - recommended retail price in AUD/MWh.\n",
    "- \"demand_pos_price\" - total daily demand at a positive price in MWh.\n",
    "- \"price_positive\" - average positive price, weighted by the corresponding intraday demand in AUD/MWh.\n",
    "- \"demand_neg_price\" - total daily demand at a negative price in MWh.\n",
    "- \"price_negative\" - average negative price, weighted by the corresponding intraday demand in AUD/MWh.\n",
    "- \"frac_neg_price\" - the fraction of the day when the demand traded at a negative price.\n",
    "- \"min_temperature\" - minimum temperature during the day in Celsius.\n",
    "- \"max_temperature\" - maximum temperature during the day in Celsius.\n",
    "- \"solar_exposure\" - total daily sunlight energy in MJ/m^2.\n",
    "- \"rainfall\" - daily rainfall in mm.\n",
    "- \"school_day\" - \"Y\" if that day was a school day, \"N\" otherwise.\n",
    "- \"holiday\" - \"Y\" if the day was a state or national holiday, \"N\" otherwise."
   ]
  },
  {
   "cell_type": "code",
   "execution_count": null,
   "id": "932f949f-784a-498e-975e-9273e6f94c8d",
   "metadata": {},
   "outputs": [],
   "source": [
    "# Demand"
   ]
  },
  {
   "cell_type": "code",
   "execution_count": null,
   "id": "a4395aac-b1cd-455b-adfa-52c24e85b8cf",
   "metadata": {},
   "outputs": [
    {
     "data": {
      "image/png": "[encoded data removed]",
      "text/plain": [
       "<Figure size 432x288 with 1 Axes>"
      ]
     },
     "metadata": {
      "needs_background": "light"
     },
     "output_type": "display_data"
    }
   ],
   "source": [
    "# plot\n",
    "sns.boxplot(x='year', y='solar_exposure', data=df)\n",
    "plt.show()"
   ]
  },
  {
   "cell_type": "code",
   "execution_count": null,
   "id": "4143abed-19e0-4a4a-9dff-4c997ae37372",
   "metadata": {},
   "outputs": [
    {
     "data": {
      "image/png": "[encoded data removed]",
      "text/plain": [
       "<Figure size 1382.4x576 with 6 Axes>"
      ]
     },
     "metadata": {
      "needs_background": "light"
     },
     "output_type": "display_data"
    }
   ],
   "source": [
    "# plot\n",
    "sns.catplot(x='month', y='solar_exposure', col='year', kind='box', data=df, height=8, aspect=.4)\n",
    "plt.show()"
   ]
  },
  {
   "cell_type": "code",
   "execution_count": null,
   "id": "e65c5e27-c2ae-4d41-923d-02ae4d1ddedc",
   "metadata": {},
   "outputs": [
    {
     "data": {
      "image/png": "[encoded data removed]",
      "text/plain": [
       "<Figure size 792x648 with 2 Axes>"
      ]
     },
     "metadata": {
      "needs_background": "light"
     },
     "output_type": "display_data"
    }
   ],
   "source": [
    "import numpy as np\n",
    "df_corr = df.drop(['year', 'month', 'day_of_week', 'outlier_price', 'date', 'school_day', 'holiday'], axis=1)\n",
    "df_corr.head()\n",
    "\n",
    "# sns.set_theme(style=\"white\")\n",
    "# Compute the correlation matrix\n",
    "corr = df_corr[df_corr.price < 180].corr()\n",
    "\n",
    "# Generate a mask for the upper triangle\n",
    "#mask = np.triu(np.ones_like(corr, dtype=bool))\n",
    "\n",
    "# Set up the matplotlib figure\n",
    "f, ax = plt.subplots(figsize=(11, 9))\n",
    "\n",
    "# Generate a custom diverging colormap\n",
    "cmap = sns.diverging_palette(230, 20, as_cmap=True)\n",
    "\n",
    "# Draw the heatmap with the mask and correct aspect ratio\n",
    "sns.heatmap(corr, cmap=cmap, vmax=.3, center=0,\n",
    "            square=True, linewidths=.5, cbar_kws={\"shrink\": .5})\n",
    "\n",
    "plt.show()"
   ]
  },
  {
   "cell_type": "markdown",
   "id": "efda8e32-5c7e-48cc-8bd6-83ad3ba72f6e",
   "metadata": {},
   "source": [
    "## 🧑‍⚖️ Judging criteria\n",
    "\n",
    "| CATEGORY | WEIGHTING | DETAILS                                                              |\n",
    "|:---------|:----------|:---------------------------------------------------------------------|\n",
    "| **Recommendations** | 35%       | <ul><li>Clarity of recommendations - how clear and well presented the recommendation is.</li><li>Quality of recommendations - are appropriate analytical techniques used & are the conclusions valid?</li><li>Number of relevant insights found for the target audience.</li></ul>       |\n",
    "| **Storytelling**  | 35%       | <ul><li>How well the data and insights are connected to the recommendation.</li><li>How the narrative and whole report connects together.</li><li>Balancing making the report in-depth enough but also concise.</li></ul> |\n",
    "| **Visualizations** | 20% | <ul><li>Appropriateness of visualization used.</li><li>Clarity of insight from visualization.</li></ul> |\n",
    "| **Votes** | 10% | <ul><li>Up voting - most upvoted entries get the most points.</li></ul> |"
   ]
  },
  {
   "cell_type": "markdown",
   "id": "7fa68a10-14d8-4db9-a473-9efdab8f2fbd",
   "metadata": {},
   "source": [
    "## ✅ Checklist before publishing into the competition\n",
    "- Rename your workspace to make it descriptive of your work. N.B. you should leave the notebook name as notebook.ipynb.\n",
    "- **Remove redundant cells** like the judging criteria, so the workbook is focused on your story.\n",
    "- Make sure the workbook reads well and explains how you found your insights. \n",
    "- Try to include an **executive summary** of your recommendations at the beginning.\n",
    "- Check that all the cells run without error."
   ]
  },
  {
   "cell_type": "markdown",
   "id": "3bef7acb-5b00-4282-8c3e-1aa34bf4b7df",
   "metadata": {},
   "source": [
    "## ⌛️ Time is ticking. Good luck!"
   ]
  }
 ],
 "metadata": {
  "kernelspec": {
   "display_name": "Python 3 (ipykernel)",
   "language": "python",
   "name": "python3"
  },
  "language_info": {
   "codemirror_mode": {
    "name": "ipython",
    "version": 3
   },
   "file_extension": ".py",
   "mimetype": "text/x-python",
   "name": "python",
   "nbconvert_exporter": "python",
   "pygments_lexer": "ipython3",
   "version": "3.8.10"
  }
 },
 "nbformat": 4,
 "nbformat_minor": 5
}
