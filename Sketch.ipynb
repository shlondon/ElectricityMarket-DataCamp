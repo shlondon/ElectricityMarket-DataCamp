{
 "cells": [
  {
   "cell_type": "markdown",
   "id": "9a9ada08-c9f0-466f-91a0-265fa539f9f5",
   "metadata": {
    "tags": []
   },
   "source": [
    "# Understanding the local electricity market\n",
    "\n",
    "## 📖 Background\n",
    "You work for an energy company in Australia. Your company builds solar panel arrays and then sells the energy they produce to industrial customers. The company wants to expand to the city of Melbourne in the state of Victoria. \n",
    "\n",
    "Prices and demand for electricity change every day. Customers pay for the energy received using a formula based on the local energy market's daily price.\n",
    "\n",
    "Your company's pricing committee wants your team to estimate energy prices for the next 12-18 months to use those prices as the basis for contract negotiations.\n",
    "\n",
    "In addition, the VP of strategy is researching investing in storage capacity (i.e., batteries) as a new source of revenue. The plan is to store some of the energy produced by the solar panels when pricing conditions are unfavorable and sell it by the next day on the open market if the prices are higher."
   ]
  },
  {
   "cell_type": "markdown",
   "id": "10dcc269-3659-4851-99cd-f1ffb7f818aa",
   "metadata": {
    "tags": []
   },
   "source": [
    "## 💾 The data\n",
    "You have access to over five years of energy price and demand data ([source](https://www.kaggle.com/aramacus/electricity-demand-in-victoria-australia)):\n",
    "\n",
    "- \"date\" - from January 1, 2015, to October 6, 2020.\n",
    "- \"demand\" - daily electricity demand in MWh.\n",
    "- \"price\" - recommended retail price in AUD/MWh.\n",
    "- \"demand_pos_price\" - total daily demand at a positive price in MWh.\n",
    "- \"price_positive\" - average positive price, weighted by the corresponding intraday demand in AUD/MWh.\n",
    "- \"demand_neg_price\" - total daily demand at a negative price in MWh.\n",
    "- \"price_negative\" - average negative price, weighted by the corresponding intraday demand in AUD/MWh.\n",
    "- \"frac_neg_price\" - the fraction of the day when the demand traded at a negative price.\n",
    "- \"min_temperature\" - minimum temperature during the day in Celsius.\n",
    "- \"max_temperature\" - maximum temperature during the day in Celsius.\n",
    "- \"solar_exposure\" - total daily sunlight energy in MJ/m^2.\n",
    "- \"rainfall\" - daily rainfall in mm.\n",
    "- \"school_day\" - \"Y\" if that day was a school day, \"N\" otherwise.\n",
    "- \"holiday\" - \"Y\" if the day was a state or national holiday, \"N\" otherwise.\n",
    "\n",
    "Note: The price was negative during some intraday intervals, so energy producers were paying buyers rather than vice-versa."
   ]
  },
  {
   "cell_type": "code",
   "execution_count": 1,
   "id": "40251159-3eea-47f8-bfb4-09e38d5ced65",
   "metadata": {},
   "outputs": [
    {
     "data": {
      "application/com.datacamp.data-table.v1+json": {
       "is_truncated": false,
       "table": {
        "data": [
         {
          "date": "2015-01-01T00:00:00.000Z",
          "demand": 99635.03,
          "demand_neg_price": 2315.79,
          "demand_pos_price": 97319.24,
          "frac_neg_price": 0.020833334,
          "holiday": "Y",
          "index": 0,
          "max_temperature": 26.9,
          "min_temperature": 13.3,
          "price": 25.6336964339,
          "price_negative": -7.24,
          "price_positive": 26.4159526194,
          "rainfall": 0,
          "school_day": "N",
          "solar_exposure": 23.6
         },
         {
          "date": "2015-01-02T00:00:00.000Z",
          "demand": 129606.0099999999,
          "demand_neg_price": 8523.995,
          "demand_pos_price": 121082.0149999999,
          "frac_neg_price": 0.0625,
          "holiday": "N",
          "index": 1,
          "max_temperature": 38.8,
          "min_temperature": 15.4,
          "price": 33.1389875612,
          "price_negative": -47.8097765015,
          "price_positive": 38.837660978,
          "rainfall": 0,
          "school_day": "N",
          "solar_exposure": 26.8
         },
         {
          "date": "2015-01-03T00:00:00.000Z",
          "demand": 142300.54,
          "demand_neg_price": 0,
          "demand_pos_price": 142300.54,
          "frac_neg_price": 0,
          "holiday": "N",
          "index": 2,
          "max_temperature": 38.2,
          "min_temperature": 20,
          "price": 34.5648548291,
          "price_negative": 0,
          "price_positive": 34.5648548291,
          "rainfall": 0,
          "school_day": "N",
          "solar_exposure": 26.5
         },
         {
          "date": "2015-01-04T00:00:00.000Z",
          "demand": 104330.715,
          "demand_neg_price": 0,
          "demand_pos_price": 104330.715,
          "frac_neg_price": 0,
          "holiday": "N",
          "index": 3,
          "max_temperature": 21.4,
          "min_temperature": 16.3,
          "price": 25.0055602384,
          "price_negative": 0,
          "price_positive": 25.0055602384,
          "rainfall": 4.2,
          "school_day": "N",
          "solar_exposure": 25.2
         },
         {
          "date": "2015-01-05T00:00:00.000Z",
          "demand": 118132.1999999999,
          "demand_neg_price": 0,
          "demand_pos_price": 118132.1999999999,
          "frac_neg_price": 0,
          "holiday": "N",
          "index": 4,
          "max_temperature": 22,
          "min_temperature": 15,
          "price": 26.7241762779,
          "price_negative": 0,
          "price_positive": 26.7241762779,
          "rainfall": 0,
          "school_day": "N",
          "solar_exposure": 30.7
         }
        ],
        "schema": {
         "fields": [
          {
           "name": "index",
           "type": "integer"
          },
          {
           "name": "date",
           "type": "datetime"
          },
          {
           "name": "demand",
           "type": "number"
          },
          {
           "name": "price",
           "type": "number"
          },
          {
           "name": "demand_pos_price",
           "type": "number"
          },
          {
           "name": "price_positive",
           "type": "number"
          },
          {
           "name": "demand_neg_price",
           "type": "number"
          },
          {
           "name": "price_negative",
           "type": "number"
          },
          {
           "name": "frac_neg_price",
           "type": "number"
          },
          {
           "name": "min_temperature",
           "type": "number"
          },
          {
           "name": "max_temperature",
           "type": "number"
          },
          {
           "name": "solar_exposure",
           "type": "number"
          },
          {
           "name": "rainfall",
           "type": "number"
          },
          {
           "name": "school_day",
           "type": "string"
          },
          {
           "name": "holiday",
           "type": "string"
          }
         ],
         "pandas_version": "0.20.0",
         "primaryKey": [
          "index"
         ]
        }
       },
       "total_rows": 5
      },
      "text/html": [
       "<div>\n",
       "<style scoped>\n",
       "    .dataframe tbody tr th:only-of-type {\n",
       "        vertical-align: middle;\n",
       "    }\n",
       "\n",
       "    .dataframe tbody tr th {\n",
       "        vertical-align: top;\n",
       "    }\n",
       "\n",
       "    .dataframe thead th {\n",
       "        text-align: right;\n",
       "    }\n",
       "</style>\n",
       "<table border=\"1\" class=\"dataframe\">\n",
       "  <thead>\n",
       "    <tr style=\"text-align: right;\">\n",
       "      <th></th>\n",
       "      <th>date</th>\n",
       "      <th>demand</th>\n",
       "      <th>price</th>\n",
       "      <th>demand_pos_price</th>\n",
       "      <th>price_positive</th>\n",
       "      <th>demand_neg_price</th>\n",
       "      <th>price_negative</th>\n",
       "      <th>frac_neg_price</th>\n",
       "      <th>min_temperature</th>\n",
       "      <th>max_temperature</th>\n",
       "      <th>solar_exposure</th>\n",
       "      <th>rainfall</th>\n",
       "      <th>school_day</th>\n",
       "      <th>holiday</th>\n",
       "    </tr>\n",
       "  </thead>\n",
       "  <tbody>\n",
       "    <tr>\n",
       "      <th>0</th>\n",
       "      <td>2015-01-01</td>\n",
       "      <td>99635.030</td>\n",
       "      <td>25.633696</td>\n",
       "      <td>97319.240</td>\n",
       "      <td>26.415953</td>\n",
       "      <td>2315.790</td>\n",
       "      <td>-7.240000</td>\n",
       "      <td>0.020833</td>\n",
       "      <td>13.3</td>\n",
       "      <td>26.9</td>\n",
       "      <td>23.6</td>\n",
       "      <td>0.0</td>\n",
       "      <td>N</td>\n",
       "      <td>Y</td>\n",
       "    </tr>\n",
       "    <tr>\n",
       "      <th>1</th>\n",
       "      <td>2015-01-02</td>\n",
       "      <td>129606.010</td>\n",
       "      <td>33.138988</td>\n",
       "      <td>121082.015</td>\n",
       "      <td>38.837661</td>\n",
       "      <td>8523.995</td>\n",
       "      <td>-47.809777</td>\n",
       "      <td>0.062500</td>\n",
       "      <td>15.4</td>\n",
       "      <td>38.8</td>\n",
       "      <td>26.8</td>\n",
       "      <td>0.0</td>\n",
       "      <td>N</td>\n",
       "      <td>N</td>\n",
       "    </tr>\n",
       "    <tr>\n",
       "      <th>2</th>\n",
       "      <td>2015-01-03</td>\n",
       "      <td>142300.540</td>\n",
       "      <td>34.564855</td>\n",
       "      <td>142300.540</td>\n",
       "      <td>34.564855</td>\n",
       "      <td>0.000</td>\n",
       "      <td>0.000000</td>\n",
       "      <td>0.000000</td>\n",
       "      <td>20.0</td>\n",
       "      <td>38.2</td>\n",
       "      <td>26.5</td>\n",
       "      <td>0.0</td>\n",
       "      <td>N</td>\n",
       "      <td>N</td>\n",
       "    </tr>\n",
       "    <tr>\n",
       "      <th>3</th>\n",
       "      <td>2015-01-04</td>\n",
       "      <td>104330.715</td>\n",
       "      <td>25.005560</td>\n",
       "      <td>104330.715</td>\n",
       "      <td>25.005560</td>\n",
       "      <td>0.000</td>\n",
       "      <td>0.000000</td>\n",
       "      <td>0.000000</td>\n",
       "      <td>16.3</td>\n",
       "      <td>21.4</td>\n",
       "      <td>25.2</td>\n",
       "      <td>4.2</td>\n",
       "      <td>N</td>\n",
       "      <td>N</td>\n",
       "    </tr>\n",
       "    <tr>\n",
       "      <th>4</th>\n",
       "      <td>2015-01-05</td>\n",
       "      <td>118132.200</td>\n",
       "      <td>26.724176</td>\n",
       "      <td>118132.200</td>\n",
       "      <td>26.724176</td>\n",
       "      <td>0.000</td>\n",
       "      <td>0.000000</td>\n",
       "      <td>0.000000</td>\n",
       "      <td>15.0</td>\n",
       "      <td>22.0</td>\n",
       "      <td>30.7</td>\n",
       "      <td>0.0</td>\n",
       "      <td>N</td>\n",
       "      <td>N</td>\n",
       "    </tr>\n",
       "  </tbody>\n",
       "</table>\n",
       "</div>"
      ],
      "text/plain": [
       "        date      demand      price  demand_pos_price  price_positive  \\\n",
       "0 2015-01-01   99635.030  25.633696         97319.240       26.415953   \n",
       "1 2015-01-02  129606.010  33.138988        121082.015       38.837661   \n",
       "2 2015-01-03  142300.540  34.564855        142300.540       34.564855   \n",
       "3 2015-01-04  104330.715  25.005560        104330.715       25.005560   \n",
       "4 2015-01-05  118132.200  26.724176        118132.200       26.724176   \n",
       "\n",
       "   demand_neg_price  price_negative  frac_neg_price  min_temperature  \\\n",
       "0          2315.790       -7.240000        0.020833             13.3   \n",
       "1          8523.995      -47.809777        0.062500             15.4   \n",
       "2             0.000        0.000000        0.000000             20.0   \n",
       "3             0.000        0.000000        0.000000             16.3   \n",
       "4             0.000        0.000000        0.000000             15.0   \n",
       "\n",
       "   max_temperature  solar_exposure  rainfall school_day holiday  \n",
       "0             26.9            23.6       0.0          N       Y  \n",
       "1             38.8            26.8       0.0          N       N  \n",
       "2             38.2            26.5       0.0          N       N  \n",
       "3             21.4            25.2       4.2          N       N  \n",
       "4             22.0            30.7       0.0          N       N  "
      ]
     },
     "execution_count": 1,
     "metadata": {},
     "output_type": "execute_result"
    }
   ],
   "source": [
    "import pandas as pd\n",
    "df = pd.read_csv('./data/energy_demand.csv', parse_dates=['date'])\n",
    "df.head()"
   ]
  },
  {
   "cell_type": "markdown",
   "id": "54e0ae0c-ff96-443e-9ff3-718f1ab846e5",
   "metadata": {},
   "source": [
    "## 💪 Competition challenge\n",
    "\n",
    "Create a report that covers the following:\n",
    "\n",
    "1. How do energy prices change throughout the year? Are there any patterns by season or month of the year?\n",
    "2. Build a forecast of daily energy prices the company can use as the basis of its financial planning.\n",
    "3. Provide guidance on how much revenue the energy storage venture could generate per year using retail prices and a 70MWh storage system."
   ]
  },
  {
   "cell_type": "markdown",
   "id": "c107baf6-fad6-4081-b637-64c250037b7d",
   "metadata": {
    "tags": []
   },
   "source": [
    "## 💡 Energy Price \n",
    "\n",
    "The Energy price has strong right skew, there is a big difference between 3th quartil and the maximum: the 75% of price's values are below to 95.08 AUD/MWh and the maximum is 4549.65 AUD/MWh. This situation doesn't happen with the lower values, so there isn't left skew.\n",
    "\n",
    "If it is graphed the energy price you won't see much. Therefore outliers are detected by calculating the upper limit and lower limit using the following formulas:\n",
    "\n",
    "- $upperLimit = 3thQuartil + 1.5 * interquartilRange$\n",
    "- $lowerLimit = 1thQuartil - 1.5 * interquartilRange$\n",
    "- $interquartilRange = 3thQuartil - 1thQuartil$\n",
    "\n",
    "It is observed that the **upperLimit** [179.63 AUD/MWh] is lower than the maximum [4549.65 AUD/MWh], so all values upper that the upperlimit are *outliers*. The low values of energy's price do not have outliers because the **lowerLimit** [-45.84 AUD/MWh] is lower than the minimum [-6.08 AUD/MWh].\n",
    "\n",
    "These new information on outliers' presence allows to observe that only 28 [1.33%] from 2106 are outliers."
   ]
  },
  {
   "cell_type": "code",
   "execution_count": 2,
   "id": "c7af555d-f97f-4e9d-bacb-3b8f06526189",
   "metadata": {},
   "outputs": [
    {
     "name": "stdout",
     "output_type": "stream",
     "text": [
      "Descriptive Statistics for Price of Energy \n",
      "         price\n",
      "count  2106.00\n",
      "mean     76.08\n",
      "std     130.25\n",
      "min      -6.08\n",
      "25%      38.71\n",
      "50%      66.60\n",
      "75%      95.08\n",
      "max    4549.65\n",
      "\n",
      "upperLimit =  179.63\n",
      "\n",
      "lowerLimit =  -45.84\n",
      "\n",
      "Descriptive Statistics for otulier_price variable\n",
      "0    2078\n",
      "1      28\n",
      "Name: outlier_price, dtype: int64\n"
     ]
    }
   ],
   "source": [
    "# Read dataset\n",
    "import pandas as pd\n",
    "df = pd.read_csv('./data/energy_demand.csv', parse_dates=['date'])\n",
    "\n",
    "# Descriptive Statistics\n",
    "print('Descriptive Statistics for Price of Energy ')\n",
    "print(round(df.price.describe(), 2).to_frame())\n",
    "print('')\n",
    "\n",
    "# Upper limit and lower limit for detect outliers\n",
    "interquartil_range = df.price.describe()['75%'] - df.price.describe()['25%']\n",
    "upper_limit = df.price.describe()['75%'] + 1.5 * interquartil_range\n",
    "lower_limit = df.price.describe()['25%'] - 1.5 * interquartil_range\n",
    "\n",
    "print('upperLimit = ', round(upper_limit, 2))\n",
    "print('')\n",
    "print('lowerLimit = ', round(lower_limit,2))\n",
    "print('')\n",
    "\n",
    "# Feature Engineering: outlier_price\n",
    "df['outlier_price'] = df.price.apply(lambda x: 1 if x > upper_limit else 0)\n",
    "print('Descriptive Statistics for otulier_price variable')\n",
    "print(df.outlier_price.value_counts())"
   ]
  },
  {
   "cell_type": "markdown",
   "id": "8beb8312-808e-44a3-a381-05d25a4757d1",
   "metadata": {},
   "source": [
    "### Evolution of Energy's Price 🕰\n",
    "\n",
    "The annual price of energy changes over time. It slowly increases from 2015 to 2016, then strongly increases at 2017, then slowly decreases at 2018, then slowly increases at 2019, finally strongly decreases at 2020. **It is observed to change non-linearly with time, it looks like a parabola**."
   ]
  },
  {
   "cell_type": "code",
   "execution_count": 3,
   "id": "06d78be2-4ea2-4777-b22a-1ef3771e0376",
   "metadata": {},
   "outputs": [
    {
     "data": {
      "image/png": "[encoded data removed]",
      "text/plain": [
       "<Figure size 432x288 with 1 Axes>"
      ]
     },
     "metadata": {
      "needs_background": "light"
     },
     "output_type": "display_data"
    }
   ],
   "source": [
    "import seaborn as sns\n",
    "import matplotlib.pyplot as plt\n",
    "\n",
    "# Feature Engineering: year and month\n",
    "df['year'] = [ts.year for ts in df.date]\n",
    "\n",
    "# plot\n",
    "sns.boxplot(x='year', y='price', data=df[df.price <= 170.63])\n",
    "plt.show()"
   ]
  },
  {
   "cell_type": "markdown",
   "id": "4fa4b123-7f56-4ef2-9ff0-2e1f9414c09f",
   "metadata": {},
   "source": [
    "The monthly price of energy over the years also changes over time. **It is observed that price is higher in June [month number 6] and July [month number 7] than the rest except at 2015 and 2018**, the median [horizontal line into the boxes] for these months are the highest."
   ]
  },
  {
   "cell_type": "code",
   "execution_count": 4,
   "id": "f35ff9dd-0873-4564-8de3-a845adcdff06",
   "metadata": {},
   "outputs": [
    {
     "data": {
      "image/png": "[encoded data removed]",
      "text/plain": [
       "<Figure size 1382.4x576 with 6 Axes>"
      ]
     },
     "metadata": {
      "needs_background": "light"
     },
     "output_type": "display_data"
    }
   ],
   "source": [
    "# Feature Engineering: month\n",
    "df['month'] = [ts.month for ts in df.date]\n",
    "\n",
    "# plot\n",
    "sns.catplot(x='month', y='price', col='year', kind='box', data=df[df.price <= 170.63], height=8, aspect=.4)\n",
    "plt.show()"
   ]
  },
  {
   "cell_type": "markdown",
   "id": "8481193b-2757-4ea1-85ea-28297d8ddf01",
   "metadata": {},
   "source": [
    "**The price of energy varies throughout the days of the week**, Saturdays [value equal to 5] and Sundays [value equal to 6] are lower values than the rest of the days of the week, weekend medians are lowest."
   ]
  },
  {
   "cell_type": "code",
   "execution_count": 5,
   "id": "32b1590f-5c19-4e9a-a5ed-aaffc141054c",
   "metadata": {},
   "outputs": [
    {
     "data": {
      "image/png": "[encoded data removed]",
      "text/plain": [
       "<Figure size 360x360 with 1 Axes>"
      ]
     },
     "metadata": {
      "needs_background": "light"
     },
     "output_type": "display_data"
    }
   ],
   "source": [
    "# Feature Engineering: day of week\n",
    "df['day_of_week'] = [ts.day_of_week for ts in df.date]\n",
    "\n",
    "# plot\n",
    "sns.catplot(x='day_of_week', y='price', kind='box', data=df[df.price < 170.63])\n",
    "plt.show()"
   ]
  },
  {
   "cell_type": "markdown",
   "id": "d2588651-444f-4c4a-818a-2e91ba9487de",
   "metadata": {},
   "source": [
    "## Forecast Model for Energy Price"
   ]
  },
  {
   "cell_type": "markdown",
   "id": "b68e19c6-7a99-423e-9196-1b1cac253e4a",
   "metadata": {},
   "source": [
    "Following Economy theory, the prices of a thing or service are built by its demand and its supply. The energy's price will increase if the demand is greater than the supply and the energy's price will decrease if the demand is less than the supply. In addition, there is a positive relationship between price and demand, so the higher the demand, the higher the price. And there is a negative relationship between price and supply, so the higher the supply, the lower the price.\n",
    "\n",
    "$$EnergyPrice = F(Demand, Supply)$$\n",
    "\n",
    "The Demand and Supply depend on many things. For example, Demand could depend of family income, Gross Domestic Product [GDP], Customer Expectations about the Energy Price, Fossil Fuel Prices, Weather Conditions, the variables in the data set, etc. On the other hand Supply depend of Capital Invested in Production, Goverment Spend in Energy Market, Energy Market Regulations, etc. So each one could be a function itself.\n",
    "\n",
    "Saddenly the dataset does not have variables that play the rol of the Supply. So it is assumed that Supply will be the same accross time. It is a strong assumption but it is necessary in abstractions settings. In futures iterations build a Supply Model getting different variables is a recommendation. So the function to estimate will be:\n",
    "\n",
    "$$EnergyPrice = F(Demand)$$\n",
    "\n",
    "As mentioned above, Demand depends of many variables, however in this report it is assumed that Energy Demand depends on variables in the data set associated with wheater and variables that can incentivize it, such as like school_day and holiday variables. Then the function that represent the demand will be:\n",
    "\n",
    "$$ EnergyDemand = Q(minTemperature, maxTemperature, solarExposure, rainfall, schoolDay, holiday) $$\n",
    "\n",
    "Next, each relationship will be analyzed and all possible models that can be created will be evaluated. Thus, the final Demand Function can change.\n",
    "\n",
    "\n",
    "Finally, if any wheater variable fall within the final variables selected to be part of Demand Function, it will be modelated only with time variables. For example, if min_temperature variable is the only one selected, a new function will be created:\n",
    "\n",
    "$$minTemperature = S(date)$$\n",
    "\n",
    "With all this function, it will create a function that will receive only one date and the output will be the forecasted energy price. Supposing that min_teperature is the only one variable that explain Demand Function the logic of the function that will make the forecast is:\n",
    "\n",
    "\n",
    "```python\n",
    "def EnergyPrice(Demand):\n",
    "    # Code\n",
    "    return energy_price\n",
    "\n",
    "def Demand(minTemperature):\n",
    "    # Code\n",
    "    return min_temp\n",
    "\n",
    "def minTemperature(date):\n",
    "    # Code\n",
    "    return demand\n",
    "\n",
    "def ForecastEnergyPri(date):\n",
    "    min_temp = minTemperature(date)\n",
    "    demand = Demand(min_temp)\n",
    "    energy_price = EnergyPrice(demand)\n",
    "    return energy_price\n",
    "```\n",
    "\n",
    "\n",
    "\n",
    "\n"
   ]
  },
  {
   "cell_type": "markdown",
   "id": "e210b48d-814c-431e-889d-81b3fb54702b",
   "metadata": {},
   "source": [
    "### EnergyPrice Function\n",
    "\n",
    "Let is checked the Relationship between Energy's Price and its Demand. After take the base 10 logarithm positive relationship between price and demand is confirmed. It is also observed that the relationship is not linear, for higher demand's value the price's value increase faster than lower demand's value."
   ]
  },
  {
   "cell_type": "code",
   "execution_count": 6,
   "id": "2f58542b-97ac-4dee-9610-0b50f117050e",
   "metadata": {},
   "outputs": [
    {
     "data": {
      "image/png": "[encoded data removed]",
      "text/plain": [
       "<Figure size 432x288 with 1 Axes>"
      ]
     },
     "metadata": {
      "needs_background": "light"
     },
     "output_type": "display_data"
    }
   ],
   "source": [
    "# Apply logarithm to the demand variable\n",
    "import numpy as np\n",
    "df['demandLog10'] = np.log10(df.demand)\n",
    "df['priceLog10'] = np.log10(df.price)\n",
    "\n",
    "# Plot\n",
    "sns.scatterplot(data=df, x=\"demandLog10\", y=\"priceLog10\", alpha=0.1)\n",
    "plt.show()"
   ]
  },
  {
   "cell_type": "markdown",
   "id": "db204757-a972-43b6-a473-9de2fd9f9e53",
   "metadata": {},
   "source": [
    "The no linear relationship between Energy's Price and its Demand brings the necesity to create new features and run models that try catch it. Thus, it is created a function that fit many Linear Regression Models with different Polynomial degree of Demand. The outcome function is a Pandas DataFrame with Root Mean Squeare Error [RMSE] train and test values for each model fitted. \n",
    "\n",
    "Linear Regression Model is selected in this case because it is possible catch no linear relationship by increasing the Polynomial Degree of independent variables.\n",
    "\n",
    "Specifically, the function the following steps to create models:\n",
    "\n",
    "1. Split data\n",
    "2. Standarize variables and apply over them log10 numpy method\n",
    "3. In a loop is repeat:\n",
    "   1. Generate different polynomial grades of demand variables\n",
    "   2. Fit models\n",
    "   3. Get predictions\n",
    "   4. Evaluate using Root Mean Squared Errors [RMSE]\n",
    "   5. Store main information"
   ]
  },
  {
   "cell_type": "code",
   "execution_count": 7,
   "id": "1ab7c402-368a-44ae-befe-05d611037beb",
   "metadata": {},
   "outputs": [],
   "source": [
    "from sklearn.model_selection import train_test_split\n",
    "from sklearn.preprocessing import StandardScaler, PolynomialFeatures\n",
    "from sklearn.linear_model import LinearRegression\n",
    "from sklearn.metrics import mean_squared_error as MSE\n",
    "import numpy as np\n",
    "from itertools import product\n",
    "\n",
    "def create_prices_models(df, to_the_degree):\n",
    "    \"\"\"\n",
    "    Create a Linear Regression Models to modelate energy's price with demand variable.\n",
    "    Following:\n",
    "    1. Split data\n",
    "    2. Standarize variables and apply over them log10 numpy method\n",
    "    3. Generate different polynomial grades of demand variables\n",
    "    4. Fit models\n",
    "    5. Get predictions\n",
    "    6. Evaluate using Root Mean Squared Errors [RMSE]\n",
    "    7. Store main information\n",
    "    \n",
    "    Args:\n",
    "        df: data frame with Demand Energy's price variable. \n",
    "            The names must be \"demand\" and \"price\"\n",
    "        to_the_degree: int that control the degree parameter in PolynomialFeatures() class.\n",
    "            And it also control the number of models to be fitted. So if to_the_degree = 3\n",
    "            then three Linear Regression Models [LRM] will be fitted:\n",
    "                - LRM with degree 1\n",
    "                - LRM with degree 2\n",
    "                - LRM with degree 3\n",
    "\n",
    "    Returns:\n",
    "        Pandas.DataFrame: DataFrame with RMSE train and test values for each model fitted.\n",
    "    \"\"\"\n",
    "    \n",
    "    # Inputs\n",
    "    df_no_neg_prices = df[df.price >= 0]\n",
    "    df_X = pd.DataFrame(df_no_neg_prices['demand'])\n",
    "    df_y = pd.DataFrame(df_no_neg_prices['price'])\n",
    "    degrees = [i + 1 for i in range(to_the_degree)]\n",
    "    biasses = [True, False]\n",
    "    intercepts = [True, False]\n",
    "    demands = ['demand', 'demandStandardized', 'demandLog10']\n",
    "    prices = ['price', 'priceStandardized', 'priceLog10']\n",
    "    combinations = list(product(biasses, intercepts, demands, prices))\n",
    "\n",
    "    # Split data\n",
    "    X_train, X_test, y_train, y_test = train_test_split(df_X,\n",
    "                                                        df_y, test_size=0.4, random_state=2256)\n",
    "\n",
    "    # Standardize demand and price\n",
    "    standardizer = StandardScaler()\n",
    "    X_train['demandStandardized'] = standardizer.fit_transform(X_train.demand.values.reshape(-1,1))\n",
    "    y_train['priceStandardized'] = standardizer.fit_transform(y_train.price.values.reshape(-1,1))\n",
    "    X_test['demandStandardized'] = standardizer.fit_transform(X_test.demand.values.reshape(-1,1))\n",
    "    y_test['priceStandardized'] = standardizer.fit_transform(y_test.price.values.reshape(-1,1))\n",
    "\n",
    "    # Apply logarithm to the demand variable\n",
    "    X_train['demandLog10'] = np.log10(df.demand)\n",
    "    y_train['priceLog10'] = np.log10(df.price)\n",
    "    X_test['demandLog10'] = np.log10(df.demand)\n",
    "    y_test['priceLog10'] = np.log10(df.price)\n",
    "    combinations = list(product(biasses, intercepts, demands, prices))\n",
    "    \n",
    "    # Get main information\n",
    "    print('Fitting models ...')\n",
    "    df_summary = pd.DataFrame()\n",
    "    for comb in combinations:\n",
    "        for degree in degrees:\n",
    "\n",
    "            # Crete new variables with different grades of demandStandardized variable\n",
    "            polyfeatures = PolynomialFeatures(degree=degree, include_bias=comb[0])\n",
    "            X_demand_train = polyfeatures.fit_transform(np.array(X_train[comb[2]]).reshape(-1, 1))\n",
    "            X_demand_test = polyfeatures.fit_transform(np.array(X_test[comb[2]]).reshape(-1, 1))\n",
    "\n",
    "            try:\n",
    "                # Fit model\n",
    "                model_train = LinearRegression(fit_intercept=comb[1])\n",
    "                model_train.fit(X_demand_train, y_train[comb[3]])\n",
    "\n",
    "                # Predictions\n",
    "                # Train\n",
    "                predictions_train = model_train.predict(X_demand_train)\n",
    "                # Test\n",
    "                predictions_test = model_train.predict(X_demand_test)\n",
    "\n",
    "                # Evaluate model\n",
    "                rmse_train = MSE(y_train[comb[3]], predictions_train, squared=False)\n",
    "                rmse_test = MSE(y_test[comb[3]], predictions_test, squared=False)\n",
    "                # print('Train RMSE: {} and Test RMSE: {}'.format(rmse_train, rmse_test))\n",
    "\n",
    "                # Store main data\n",
    "                df_summary = pd.concat([df_summary,\n",
    "                                        pd.DataFrame({'Grades':degree,\n",
    "                                                      'Biasses':comb[0],\n",
    "                                                      'Intercepts':comb[1],\n",
    "                                                      'Demand':comb[2],\n",
    "                                                      'Price':comb[3],\n",
    "                                                      'Train_RMSE': rmse_train,\n",
    "                                                      'Test_RMSE': rmse_test}, index=[0])])\n",
    "\n",
    "            except:\n",
    "                df_summary = pd.concat([df_summary,\n",
    "                                        pd.DataFrame({'Grades':degree,\n",
    "                                                      'Biasses':comb[0],\n",
    "                                                      'Intercepts':comb[1],\n",
    "                                                      'Demand':comb[2],\n",
    "                                                      'Price':comb[3],\n",
    "                                                      'Train_RMSE':np.nan,\n",
    "                                                      'Test_RMSE':np.nan},\n",
    "                                                    index=[0])])\n",
    "                pass\n",
    "\n",
    "    # Return\n",
    "    print('Models fitted')\n",
    "    return df_summary"
   ]
  },
  {
   "cell_type": "markdown",
   "id": "e797f6ae-05a4-4b31-bffb-22a767141cf0",
   "metadata": {},
   "source": [
    "It is created **360 models**!!!"
   ]
  },
  {
   "cell_type": "code",
   "execution_count": 8,
   "id": "14651064-7f4e-48b6-872d-7b552e5403df",
   "metadata": {},
   "outputs": [
    {
     "name": "stdout",
     "output_type": "stream",
     "text": [
      "Fitting models ...\n",
      "Models fitted\n"
     ]
    },
    {
     "data": {
      "text/plain": [
       "(360, 7)"
      ]
     },
     "execution_count": 8,
     "metadata": {},
     "output_type": "execute_result"
    }
   ],
   "source": [
    "# Creating models!!!\n",
    "models = create_prices_models(df, 10)\n",
    "models.shape"
   ]
  },
  {
   "cell_type": "markdown",
   "id": "7f928ef2-87f4-4511-9e92-808def927816",
   "metadata": {},
   "source": [
    "So the winner model is which have the lowest RMSE in test settings. The top 10 models with lowest RMSE test values are:"
   ]
  },
  {
   "cell_type": "code",
   "execution_count": 9,
   "id": "ebd100d9-fe9c-4f41-93cb-26218ab61e4b",
   "metadata": {},
   "outputs": [
    {
     "data": {
      "application/com.datacamp.data-table.v1+json": {
       "is_truncated": false,
       "table": {
        "data": [
         {
          "Biasses": false,
          "Demand": "demandStandardized",
          "Grades": 7,
          "Intercepts": true,
          "Price": "priceLog10",
          "Test_RMSE": 0.2496693548,
          "Train_RMSE": 0.2389275357,
          "index": 1
         },
         {
          "Biasses": true,
          "Demand": "demandStandardized",
          "Grades": 7,
          "Intercepts": true,
          "Price": "priceLog10",
          "Test_RMSE": 0.2496693548,
          "Train_RMSE": 0.2389275357,
          "index": 2
         },
         {
          "Biasses": true,
          "Demand": "demandStandardized",
          "Grades": 7,
          "Intercepts": false,
          "Price": "priceLog10",
          "Test_RMSE": 0.2496693548,
          "Train_RMSE": 0.2389275357,
          "index": 3
         },
         {
          "Biasses": true,
          "Demand": "demandStandardized",
          "Grades": 4,
          "Intercepts": false,
          "Price": "priceLog10",
          "Test_RMSE": 0.2497915465,
          "Train_RMSE": 0.2390688902,
          "index": 4
         },
         {
          "Biasses": false,
          "Demand": "demandStandardized",
          "Grades": 4,
          "Intercepts": true,
          "Price": "priceLog10",
          "Test_RMSE": 0.2497915465,
          "Train_RMSE": 0.2390688902,
          "index": 5
         },
         {
          "Biasses": true,
          "Demand": "demandStandardized",
          "Grades": 4,
          "Intercepts": true,
          "Price": "priceLog10",
          "Test_RMSE": 0.2497915465,
          "Train_RMSE": 0.2390688902,
          "index": 6
         },
         {
          "Biasses": true,
          "Demand": "demandStandardized",
          "Grades": 6,
          "Intercepts": true,
          "Price": "priceLog10",
          "Test_RMSE": 0.2498014426,
          "Train_RMSE": 0.2389940493,
          "index": 7
         },
         {
          "Biasses": false,
          "Demand": "demandStandardized",
          "Grades": 6,
          "Intercepts": true,
          "Price": "priceLog10",
          "Test_RMSE": 0.2498014426,
          "Train_RMSE": 0.2389940493,
          "index": 8
         },
         {
          "Biasses": true,
          "Demand": "demandStandardized",
          "Grades": 6,
          "Intercepts": false,
          "Price": "priceLog10",
          "Test_RMSE": 0.2498014426,
          "Train_RMSE": 0.2389940493,
          "index": 9
         },
         {
          "Biasses": false,
          "Demand": "demandStandardized",
          "Grades": 5,
          "Intercepts": true,
          "Price": "priceLog10",
          "Test_RMSE": 0.2498704054,
          "Train_RMSE": 0.2390149986,
          "index": 10
         }
        ],
        "schema": {
         "fields": [
          {
           "name": "index",
           "type": "integer"
          },
          {
           "name": "Grades",
           "type": "integer"
          },
          {
           "name": "Biasses",
           "type": "boolean"
          },
          {
           "name": "Intercepts",
           "type": "boolean"
          },
          {
           "name": "Demand",
           "type": "string"
          },
          {
           "name": "Price",
           "type": "string"
          },
          {
           "name": "Train_RMSE",
           "type": "number"
          },
          {
           "name": "Test_RMSE",
           "type": "number"
          }
         ],
         "pandas_version": "0.20.0",
         "primaryKey": [
          "index"
         ]
        }
       },
       "total_rows": 10
      },
      "text/html": [
       "<div>\n",
       "<style scoped>\n",
       "    .dataframe tbody tr th:only-of-type {\n",
       "        vertical-align: middle;\n",
       "    }\n",
       "\n",
       "    .dataframe tbody tr th {\n",
       "        vertical-align: top;\n",
       "    }\n",
       "\n",
       "    .dataframe thead th {\n",
       "        text-align: right;\n",
       "    }\n",
       "</style>\n",
       "<table border=\"1\" class=\"dataframe\">\n",
       "  <thead>\n",
       "    <tr style=\"text-align: right;\">\n",
       "      <th></th>\n",
       "      <th>Grades</th>\n",
       "      <th>Biasses</th>\n",
       "      <th>Intercepts</th>\n",
       "      <th>Demand</th>\n",
       "      <th>Price</th>\n",
       "      <th>Train_RMSE</th>\n",
       "      <th>Test_RMSE</th>\n",
       "    </tr>\n",
       "  </thead>\n",
       "  <tbody>\n",
       "    <tr>\n",
       "      <th>1</th>\n",
       "      <td>7</td>\n",
       "      <td>False</td>\n",
       "      <td>True</td>\n",
       "      <td>demandStandardized</td>\n",
       "      <td>priceLog10</td>\n",
       "      <td>0.238928</td>\n",
       "      <td>0.249669</td>\n",
       "    </tr>\n",
       "    <tr>\n",
       "      <th>2</th>\n",
       "      <td>7</td>\n",
       "      <td>True</td>\n",
       "      <td>True</td>\n",
       "      <td>demandStandardized</td>\n",
       "      <td>priceLog10</td>\n",
       "      <td>0.238928</td>\n",
       "      <td>0.249669</td>\n",
       "    </tr>\n",
       "    <tr>\n",
       "      <th>3</th>\n",
       "      <td>7</td>\n",
       "      <td>True</td>\n",
       "      <td>False</td>\n",
       "      <td>demandStandardized</td>\n",
       "      <td>priceLog10</td>\n",
       "      <td>0.238928</td>\n",
       "      <td>0.249669</td>\n",
       "    </tr>\n",
       "    <tr>\n",
       "      <th>4</th>\n",
       "      <td>4</td>\n",
       "      <td>True</td>\n",
       "      <td>False</td>\n",
       "      <td>demandStandardized</td>\n",
       "      <td>priceLog10</td>\n",
       "      <td>0.239069</td>\n",
       "      <td>0.249792</td>\n",
       "    </tr>\n",
       "    <tr>\n",
       "      <th>5</th>\n",
       "      <td>4</td>\n",
       "      <td>False</td>\n",
       "      <td>True</td>\n",
       "      <td>demandStandardized</td>\n",
       "      <td>priceLog10</td>\n",
       "      <td>0.239069</td>\n",
       "      <td>0.249792</td>\n",
       "    </tr>\n",
       "    <tr>\n",
       "      <th>6</th>\n",
       "      <td>4</td>\n",
       "      <td>True</td>\n",
       "      <td>True</td>\n",
       "      <td>demandStandardized</td>\n",
       "      <td>priceLog10</td>\n",
       "      <td>0.239069</td>\n",
       "      <td>0.249792</td>\n",
       "    </tr>\n",
       "    <tr>\n",
       "      <th>7</th>\n",
       "      <td>6</td>\n",
       "      <td>True</td>\n",
       "      <td>True</td>\n",
       "      <td>demandStandardized</td>\n",
       "      <td>priceLog10</td>\n",
       "      <td>0.238994</td>\n",
       "      <td>0.249801</td>\n",
       "    </tr>\n",
       "    <tr>\n",
       "      <th>8</th>\n",
       "      <td>6</td>\n",
       "      <td>False</td>\n",
       "      <td>True</td>\n",
       "      <td>demandStandardized</td>\n",
       "      <td>priceLog10</td>\n",
       "      <td>0.238994</td>\n",
       "      <td>0.249801</td>\n",
       "    </tr>\n",
       "    <tr>\n",
       "      <th>9</th>\n",
       "      <td>6</td>\n",
       "      <td>True</td>\n",
       "      <td>False</td>\n",
       "      <td>demandStandardized</td>\n",
       "      <td>priceLog10</td>\n",
       "      <td>0.238994</td>\n",
       "      <td>0.249801</td>\n",
       "    </tr>\n",
       "    <tr>\n",
       "      <th>10</th>\n",
       "      <td>5</td>\n",
       "      <td>False</td>\n",
       "      <td>True</td>\n",
       "      <td>demandStandardized</td>\n",
       "      <td>priceLog10</td>\n",
       "      <td>0.239015</td>\n",
       "      <td>0.249870</td>\n",
       "    </tr>\n",
       "  </tbody>\n",
       "</table>\n",
       "</div>"
      ],
      "text/plain": [
       "    Grades  Biasses  Intercepts              Demand       Price  Train_RMSE  \\\n",
       "1        7    False        True  demandStandardized  priceLog10    0.238928   \n",
       "2        7     True        True  demandStandardized  priceLog10    0.238928   \n",
       "3        7     True       False  demandStandardized  priceLog10    0.238928   \n",
       "4        4     True       False  demandStandardized  priceLog10    0.239069   \n",
       "5        4    False        True  demandStandardized  priceLog10    0.239069   \n",
       "6        4     True        True  demandStandardized  priceLog10    0.239069   \n",
       "7        6     True        True  demandStandardized  priceLog10    0.238994   \n",
       "8        6    False        True  demandStandardized  priceLog10    0.238994   \n",
       "9        6     True       False  demandStandardized  priceLog10    0.238994   \n",
       "10       5    False        True  demandStandardized  priceLog10    0.239015   \n",
       "\n",
       "    Test_RMSE  \n",
       "1    0.249669  \n",
       "2    0.249669  \n",
       "3    0.249669  \n",
       "4    0.249792  \n",
       "5    0.249792  \n",
       "6    0.249792  \n",
       "7    0.249801  \n",
       "8    0.249801  \n",
       "9    0.249801  \n",
       "10   0.249870  "
      ]
     },
     "execution_count": 9,
     "metadata": {},
     "output_type": "execute_result"
    }
   ],
   "source": [
    "top10_models_price = models.sort_values(by='Test_RMSE').iloc[:10,:]\n",
    "top10_models_price.index = [i + 1 for i in range(10)]\n",
    "top10_models_price"
   ]
  },
  {
   "cell_type": "markdown",
   "id": "6693d356-314c-4911-b8d2-cc483a6a0df0",
   "metadata": {},
   "source": [
    "The winning model is then fitted to all data [excluding three negative prices] for later use, and the model's predictions are plotted. It is observed that the predictions [orange points] fit the cloud points very well."
   ]
  },
  {
   "cell_type": "code",
   "execution_count": 15,
   "id": "9dd50344-312e-4f7b-97bd-1070e899eff9",
   "metadata": {},
   "outputs": [
    {
     "data": {
      "image/png": "[encoded data removed]",
      "text/plain": [
       "<Figure size 432x288 with 1 Axes>"
      ]
     },
     "metadata": {
      "needs_background": "light"
     },
     "output_type": "display_data"
    }
   ],
   "source": [
    "# Standardize demand and price\n",
    "df_price_demand_model = df[df.price >= 0]\n",
    "standardizer = StandardScaler()\n",
    "df_price_demand_model['demandStandardized'] = standardizer.fit_transform(df_price_demand_model.demand.values.reshape(-1,1))\n",
    "\n",
    "# Apply logarithm to the demand variable\n",
    "df_price_demand_model['priceLog10'] = np.log10(df_price_demand_model.price)\n",
    "\n",
    "# Third fit polinomial model\n",
    "# Crete new variables with different grades of demandStandardized variable\n",
    "polyfeatures = PolynomialFeatures(degree=7, include_bias=False)\n",
    "X_demand = polyfeatures.fit_transform(np.array(df_price_demand_model.demandStandardized.values).reshape(-1, 1))\n",
    "model_energy_price = LinearRegression(fit_intercept=True)\n",
    "model_energy_price.fit(X_demand, df_price_demand_model.priceLog10)\n",
    "predictions = model_energy_price.predict(X_demand)\n",
    "\n",
    "# Plot predictions\n",
    "# Initialize layout\n",
    "fig, ax = plt.subplots()\n",
    "\n",
    "# Add scatterplot\n",
    "ax.scatter(df_price_demand_model.demandStandardized, df_price_demand_model.priceLog10, s=60, alpha=0.2, edgecolors=\"k\")\n",
    "#ax.scatter(df.demand.values, y_hat, s=60, alpha=0.2, edgecolors=\"k\")\n",
    "\n",
    "# Plot regression line\n",
    "ax.scatter(df_price_demand_model.demandStandardized, predictions)\n",
    "ax.set_xlabel('demandStandardized')\n",
    "ax.set_ylabel('priceLog10')\n",
    "plt.show()"
   ]
  },
  {
   "cell_type": "markdown",
   "id": "e6470ab4-886c-49bf-9b6c-4a42eda8eea1",
   "metadata": {},
   "source": [
    "### EnergyDemand Function\n",
    "\n",
    "Demand may depend of minimum and maximum temperature, solar exposure, rainfall, schoolDay or holiday. When the temperature is high, customers are likely to increase energy demand when they turn on their air conditiones. Perhaps when there is a lot solar exposure, the customer may have the same behavior described above. Another possiblity is that when customers tend to leave home or there are fewer people in a house such a school days or holiday, the customers demand less energy. \n",
    "\n",
    "However, the data must be plot to see its nature. It was plotted the variable Demand with each variables:"
   ]
  },
  {
   "cell_type": "code",
   "execution_count": null,
   "id": "73dad204-be14-4b26-b8eb-c41f5e47df3a",
   "metadata": {},
   "outputs": [],
   "source": [
    "# Subplot with Seaborn and Matplotlib\n",
    "fig, ((ax1, ax2), (ax3, ax4), (ax5, ax6)) = plt.subplots(3, 2, figsize=(10, 12))\n",
    "ax1.scatter(df.min_temperatureLog10, df.demandLog10, alpha=0.1, c='y')\n",
    "ax1.set_title('Demand vs Min Temperature')\n",
    "ax1.set(xlabel='Log10 (Temperature [Celsius])', ylabel='Log10 (Demand [MWh])')\n",
    "ax2.scatter(df.max_temperatureLog10, df.demandLog10, alpha=0.1, c='b')\n",
    "ax2.set_title('Demand vs Max Temperature')\n",
    "ax2.set(xlabel='Log10 (Temperature [Celsius])')\n",
    "ax3.scatter(df.solar_exposureLog10, df.demandLog10, alpha=0.1)\n",
    "ax3.set_title('Demand vs Solar Exposure')\n",
    "ax3.set(xlabel='Log10 (Solar Exposure [MJ/m^2])', ylabel='Log10 (Demand [MWh])')\n",
    "ax4.scatter(df.rainfallLog10, df.demandLog10, alpha=0.1, c='g')\n",
    "ax4.set_title('Demand vs Rainfall')\n",
    "ax4.set(xlabel='Log10 (Rainfall [mm])')\n",
    "# ax5.boxplot([df[df.school_day == 'N'].demand, df[df.school_day == 'Y'].demand], patch_artist=True)\n",
    "sns.boxplot(x='school_day', y='demand', data=df, ax=ax5)\n",
    "ax5.set_title('Demand vs School Day')\n",
    "ax5.set(xlabel='Is it a school day?', ylabel='Demand [MWh]')\n",
    "# ax6.boxplot([df[df.holiday == 'N'].demand, df[df.holiday == 'Y'].demand], patch_artist=True)\n",
    "sns.boxplot(x='holiday', y='demand', data=df, ax=ax6)\n",
    "ax6.set_title('Demand vs Holiday')\n",
    "ax6.set(xlabel='Is it a holiday?', ylabel='')\n",
    "fig.tight_layout()"
   ]
  },
  {
   "cell_type": "markdown",
   "id": "185df255-b82d-49bc-a6cb-7e80f6502e60",
   "metadata": {},
   "source": [
    "[To review] The outcome plots was georgus. There are relationships that it was expected but other go reverse to the common sense.\n",
    "\n",
    "Demand and temperature have a no linear relationship. When min temperature of a day are low the energy demand increase but extreme low min temperature no increase quickly the demand. When min temperature of a day are high the energy demand always increase. With max temperature of a day the relation behavior with energy demand is similar except in low values where demand always increase.\n",
    "\n"
   ]
  }
 ],
 "metadata": {
  "kernelspec": {
   "display_name": "Python 3 (ipykernel)",
   "language": "python",
   "name": "python3"
  },
  "language_info": {
   "codemirror_mode": {
    "name": "ipython",
    "version": 3
   },
   "file_extension": ".py",
   "mimetype": "text/x-python",
   "name": "python",
   "nbconvert_exporter": "python",
   "pygments_lexer": "ipython3",
   "version": "3.8.10"
  }
 },
 "nbformat": 4,
 "nbformat_minor": 5
}
